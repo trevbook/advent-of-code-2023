{
 "cells": [
  {
   "cell_type": "markdown",
   "metadata": {},
   "source": [
    "# **Day 10: Pipe Maze**"
   ]
  },
  {
   "cell_type": "markdown",
   "metadata": {},
   "source": [
    "# Setup\n",
    "The cells below will set up the rest of the notebook. \n",
    "\n",
    "I'll start by configuring my kernel:"
   ]
  },
  {
   "cell_type": "code",
   "execution_count": 1,
   "metadata": {},
   "outputs": [
    {
     "name": "stdout",
     "output_type": "stream",
     "text": [
      "d:\\data\\programming\\advent-of-code-2023\n"
     ]
    }
   ],
   "source": [
    "# Changing the current working directory\n",
    "%cd ..\n",
    "\n",
    "# Enabling the autoreload extension\n",
    "%load_ext autoreload\n",
    "%autoreload 2"
   ]
  },
  {
   "cell_type": "markdown",
   "metadata": {},
   "source": [
    "Now, I'm going to import some libraries:"
   ]
  },
  {
   "cell_type": "code",
   "execution_count": 2,
   "metadata": {},
   "outputs": [],
   "source": [
    "# Import statements\n",
    "import pandas as pd\n",
    "import re\n",
    "from tqdm import tqdm"
   ]
  },
  {
   "cell_type": "markdown",
   "metadata": {},
   "source": [
    "Finally, I'll load in the data for this puzzle. "
   ]
  },
  {
   "cell_type": "code",
   "execution_count": 3,
   "metadata": {},
   "outputs": [],
   "source": [
    "# Load in the data for the puzzle\n",
    "day = 10\n",
    "input_data_path = f\"data/input-files/day-{day:02d}-input.txt\"\n",
    "example_data_path = f\"data/example-input/day-{day:02d}-example.txt\"\n",
    "with open(input_data_path, \"r\") as txt_file:\n",
    "    input_data = txt_file.readlines()"
   ]
  },
  {
   "cell_type": "markdown",
   "metadata": {},
   "source": [
    "# Parsing a Network from the Maze \n",
    "I need to parse the maze using the following rules: \n",
    "\n",
    "```\n",
    "| is a vertical pipe connecting north and south.\n",
    "- is a horizontal pipe connecting east and west.\n",
    "L is a 90-degree bend connecting north and east.\n",
    "J is a 90-degree bend connecting north and west.\n",
    "7 is a 90-degree bend connecting south and west.\n",
    "F is a 90-degree bend connecting south and east.\n",
    ". is ground; there is no pipe in this tile.\n",
    "S is the starting position of the animal; there is a pipe on this tile, but your sketch doesn't show what shape the pipe has.\n",
    "```\n",
    "\n",
    "I'm going to make a network-like structure. "
   ]
  },
  {
   "cell_type": "code",
   "execution_count": 4,
   "metadata": {},
   "outputs": [],
   "source": [
    "# First, parse the input_data into a coordinate grid\n",
    "maze_coordinate_grid = [[x for x in line.strip()] for line in input_data]\n",
    "\n",
    "# Set up a dictionary of edges\n",
    "edges = {}\n",
    "\n",
    "# Indicate the possible directions travelable from each pipe\n",
    "possible_directions_from_pipes = {\n",
    "    \"|\": [(0, 1), (0, -1)],\n",
    "    \"-\": [(-1, 0), (1, 0)],\n",
    "    \"L\": [(0, 1), (1, 0)],\n",
    "    \"J\": [(0, 1), (-1, 0)],\n",
    "    \"7\": [(-1, 0), (0, -1)],\n",
    "    \"F\": [(1, 0), (0, -1)],\n",
    "}\n",
    "\n",
    "# Iterate through each cell in the maze and determine the possible moves from there\n",
    "for row_idx, row in enumerate(maze_coordinate_grid):\n",
    "    for col_idx, pipe_type in enumerate(row):\n",
    "        # If the pipe_type isn't in the possible_directions_from_pipes keys, skip it\n",
    "        if pipe_type not in possible_directions_from_pipes:\n",
    "            continue\n",
    "\n",
    "        # Iterate through each of the possible nodes connected to this one\n",
    "        for possible_directions in possible_directions_from_pipes.get(pipe_type):\n",
    "            cur_coords = (col_idx, row_idx)\n",
    "            next_coords = (\n",
    "                col_idx + possible_directions[0],\n",
    "                row_idx - possible_directions[1],\n",
    "            )\n",
    "            \n",
    "            # Add this connection to the edges\n",
    "            if cur_coords not in edges:\n",
    "                edges[cur_coords] = []\n",
    "            edges[cur_coords].append(next_coords)"
   ]
  },
  {
   "cell_type": "markdown",
   "metadata": {},
   "source": [
    "Now, with this structure in hand, we should be able to write a method to iterate through different paths till S is found. "
   ]
  },
  {
   "cell_type": "code",
   "execution_count": 5,
   "metadata": {},
   "outputs": [],
   "source": [
    "def traverse_maze_from_position(starting_pos, edges, maze, reverse_traversal=False):\n",
    "    \"\"\"\n",
    "    This method will traverse the maze from a particular starting position. \n",
    "    \"\"\"\n",
    "    \n",
    "    # We're going to keep a path \n",
    "    cur_path = [starting_pos]\n",
    "    cur_pos = starting_pos\n",
    "    cur_node = maze[cur_pos[1]][cur_pos[0]]\n",
    "    while cur_node != \"S\":\n",
    "        possible_new_nodes = edges.get(cur_pos)\n",
    "        \n",
    "        if reverse_traversal == True:\n",
    "            possible_new_nodes = reversed(possible_new_nodes)\n",
    "        \n",
    "        for possible_new_node in possible_new_nodes:\n",
    "            if possible_new_node not in cur_path:\n",
    "                cur_path.append(possible_new_node)\n",
    "                cur_pos = possible_new_node\n",
    "                cur_node = maze[cur_pos[1]][cur_pos[0]]\n",
    "                break\n",
    "    \n",
    "    # Return the traversal path \n",
    "    return cur_path"
   ]
  },
  {
   "cell_type": "code",
   "execution_count": 6,
   "metadata": {},
   "outputs": [],
   "source": [
    "# Now: we're going to identify each node around the S, and then determine the longest paths\n",
    "pipes_around_animal_start = []\n",
    "for row_idx, row in enumerate(maze_coordinate_grid):\n",
    "    for col_idx, pipe_type in enumerate(row):\n",
    "        if pipe_type == \"S\":\n",
    "            for transformation in [\n",
    "                (0, 1),\n",
    "                (1, 0),\n",
    "                (0, -1),\n",
    "                (-1, 0),\n",
    "            ]:\n",
    "                # Determine the new coordinate \n",
    "                new_coord = (col_idx + transformation[0], row_idx - transformation[1])\n",
    "                if new_coord[0] < 0 or new_coord[0] >= len(maze_coordinate_grid[0]):\n",
    "                    continue\n",
    "                elif new_coord[1] < 0 or new_coord[1] >= len(maze_coordinate_grid):\n",
    "                    continue\n",
    "                \n",
    "                # Determine the pipe type at the new coordinate\n",
    "                pipe_at_new_coord = maze_coordinate_grid[new_coord[1]][new_coord[0]]\n",
    "                if pipe_at_new_coord != \".\" and pipe_at_new_coord != \"S\":\n",
    "                    pipes_around_animal_start.append(new_coord)"
   ]
  },
  {
   "cell_type": "code",
   "execution_count": 7,
   "metadata": {},
   "outputs": [],
   "source": [
    "longest_path_from_starting_pipe_coords = {}\n",
    "for starting_pipe_coords in pipes_around_animal_start:\n",
    "    # Determine the longer path \n",
    "    longest_path = traverse_maze_from_position(\n",
    "        starting_pos=starting_pipe_coords,\n",
    "        edges=edges,\n",
    "        maze=maze_coordinate_grid,\n",
    "        reverse_traversal=True\n",
    "    )\n",
    "\n",
    "    other_path = traverse_maze_from_position(\n",
    "        starting_pos=starting_pipe_coords,\n",
    "        edges=edges,\n",
    "        maze=maze_coordinate_grid,\n",
    "        reverse_traversal=False\n",
    "    )\n",
    "\n",
    "    if len(other_path) > len(longest_path):\n",
    "        longest_path = other_path\n",
    "    \n",
    "    longest_path_from_starting_pipe_coords[starting_pipe_coords] = longest_path"
   ]
  },
  {
   "cell_type": "code",
   "execution_count": 14,
   "metadata": {},
   "outputs": [
    {
     "data": {
      "text/plain": [
       "6979"
      ]
     },
     "execution_count": 14,
     "metadata": {},
     "output_type": "execute_result"
    }
   ],
   "source": [
    "int(max([len(longest_path) for starting_coord, longest_path in longest_path_from_starting_pipe_coords.items()])/2)"
   ]
  },
  {
   "cell_type": "code",
   "execution_count": null,
   "metadata": {},
   "outputs": [],
   "source": []
  }
 ],
 "metadata": {
  "kernelspec": {
   "display_name": ".venv",
   "language": "python",
   "name": "python3"
  },
  "language_info": {
   "codemirror_mode": {
    "name": "ipython",
    "version": 3
   },
   "file_extension": ".py",
   "mimetype": "text/x-python",
   "name": "python",
   "nbconvert_exporter": "python",
   "pygments_lexer": "ipython3",
   "version": "3.11.0"
  }
 },
 "nbformat": 4,
 "nbformat_minor": 2
}
