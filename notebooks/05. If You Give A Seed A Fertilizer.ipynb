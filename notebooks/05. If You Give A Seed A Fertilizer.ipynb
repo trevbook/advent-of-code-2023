{
 "cells": [
  {
   "cell_type": "markdown",
   "metadata": {},
   "source": [
    "# **Day 5: If You Give A Seed A Fertilizer**\n",
    "\n",
    "This one seems a little convoluted, but ultimately not *too* hard - just need to do some careful parsing. "
   ]
  },
  {
   "cell_type": "markdown",
   "metadata": {},
   "source": [
    "# Setup\n",
    "The cells below will set up the rest of the notebook. \n",
    "\n",
    "I'll start by configuring my kernel:"
   ]
  },
  {
   "cell_type": "code",
   "execution_count": 1,
   "metadata": {},
   "outputs": [
    {
     "name": "stdout",
     "output_type": "stream",
     "text": [
      "/Users/thubbard/Documents/Personal/Programming/advent-of-code-2023\n"
     ]
    }
   ],
   "source": [
    "# Changing the current working directory\n",
    "%cd ..\n",
    "\n",
    "# Enabling the autoreload extension\n",
    "%load_ext autoreload\n",
    "%autoreload 2"
   ]
  },
  {
   "cell_type": "markdown",
   "metadata": {},
   "source": [
    "Now, I'm going to import some libraries:"
   ]
  },
  {
   "cell_type": "code",
   "execution_count": 97,
   "metadata": {},
   "outputs": [],
   "source": [
    "# Import statements\n",
    "import pandas as pd\n",
    "import re\n",
    "import random\n",
    "import math\n",
    "from tqdm import tqdm"
   ]
  },
  {
   "cell_type": "markdown",
   "metadata": {},
   "source": [
    "Finally, I'll load in the data for this puzzle. "
   ]
  },
  {
   "cell_type": "code",
   "execution_count": 3,
   "metadata": {},
   "outputs": [],
   "source": [
    "# Load in the data for the puzzle\n",
    "with open(\"data/input-files/day-05-input.txt\", \"r\") as txt_file:\n",
    "    input_data = txt_file.readlines()"
   ]
  },
  {
   "cell_type": "markdown",
   "metadata": {},
   "source": [
    "# Parsing the Input Data\n",
    "First thing's first: I need to iterate through each of the lines in the `input_data` and parse out the maps. "
   ]
  },
  {
   "cell_type": "code",
   "execution_count": 30,
   "metadata": {},
   "outputs": [
    {
     "data": {
      "text/html": [
       "<div>\n",
       "<style scoped>\n",
       "    .dataframe tbody tr th:only-of-type {\n",
       "        vertical-align: middle;\n",
       "    }\n",
       "\n",
       "    .dataframe tbody tr th {\n",
       "        vertical-align: top;\n",
       "    }\n",
       "\n",
       "    .dataframe thead th {\n",
       "        text-align: right;\n",
       "    }\n",
       "</style>\n",
       "<table border=\"1\" class=\"dataframe\">\n",
       "  <thead>\n",
       "    <tr style=\"text-align: right;\">\n",
       "      <th></th>\n",
       "      <th>source_range_start</th>\n",
       "      <th>source_range_end</th>\n",
       "      <th>dest_range_start</th>\n",
       "      <th>dest_range_end</th>\n",
       "      <th>range_length</th>\n",
       "      <th>map_type</th>\n",
       "      <th>map_source</th>\n",
       "      <th>map_dest</th>\n",
       "    </tr>\n",
       "  </thead>\n",
       "  <tbody>\n",
       "    <tr>\n",
       "      <th>8</th>\n",
       "      <td>4104587615</td>\n",
       "      <td>4210612885</td>\n",
       "      <td>1588644556</td>\n",
       "      <td>1694669826</td>\n",
       "      <td>106025270</td>\n",
       "      <td>humidity-to-location</td>\n",
       "      <td>humidity</td>\n",
       "      <td>location</td>\n",
       "    </tr>\n",
       "    <tr>\n",
       "      <th>3</th>\n",
       "      <td>3536983174</td>\n",
       "      <td>3836977175</td>\n",
       "      <td>3502815281</td>\n",
       "      <td>3802809282</td>\n",
       "      <td>299994001</td>\n",
       "      <td>soil-to-fertilizer</td>\n",
       "      <td>soil</td>\n",
       "      <td>fertilizer</td>\n",
       "    </tr>\n",
       "    <tr>\n",
       "      <th>22</th>\n",
       "      <td>2790861223</td>\n",
       "      <td>2873230322</td>\n",
       "      <td>1847367009</td>\n",
       "      <td>1929736108</td>\n",
       "      <td>82369099</td>\n",
       "      <td>soil-to-fertilizer</td>\n",
       "      <td>soil</td>\n",
       "      <td>fertilizer</td>\n",
       "    </tr>\n",
       "    <tr>\n",
       "      <th>13</th>\n",
       "      <td>834540076</td>\n",
       "      <td>891714422</td>\n",
       "      <td>741140998</td>\n",
       "      <td>798315344</td>\n",
       "      <td>57174346</td>\n",
       "      <td>fertilizer-to-water</td>\n",
       "      <td>fertilizer</td>\n",
       "      <td>water</td>\n",
       "    </tr>\n",
       "    <tr>\n",
       "      <th>11</th>\n",
       "      <td>2415899186</td>\n",
       "      <td>2461900019</td>\n",
       "      <td>1571991394</td>\n",
       "      <td>1617992227</td>\n",
       "      <td>46000833</td>\n",
       "      <td>temperature-to-humidity</td>\n",
       "      <td>temperature</td>\n",
       "      <td>humidity</td>\n",
       "    </tr>\n",
       "  </tbody>\n",
       "</table>\n",
       "</div>"
      ],
      "text/plain": [
       "    source_range_start  source_range_end  dest_range_start  dest_range_end  \\\n",
       "8           4104587615        4210612885        1588644556      1694669826   \n",
       "3           3536983174        3836977175        3502815281      3802809282   \n",
       "22          2790861223        2873230322        1847367009      1929736108   \n",
       "13           834540076         891714422         741140998       798315344   \n",
       "11          2415899186        2461900019        1571991394      1617992227   \n",
       "\n",
       "    range_length                 map_type   map_source    map_dest  \n",
       "8      106025270     humidity-to-location     humidity    location  \n",
       "3      299994001       soil-to-fertilizer         soil  fertilizer  \n",
       "22      82369099       soil-to-fertilizer         soil  fertilizer  \n",
       "13      57174346      fertilizer-to-water   fertilizer       water  \n",
       "11      46000833  temperature-to-humidity  temperature    humidity  "
      ]
     },
     "execution_count": 30,
     "metadata": {},
     "output_type": "execute_result"
    }
   ],
   "source": [
    "# Parse the seeds from the input_data\n",
    "seed_numbers = [int(x.strip()) for x in input_data[0].split(\":\")[1].strip().split(\" \")]\n",
    "\n",
    "# Make a list of only the lines that contain maps\n",
    "input_data_map_lines = input_data[2:]\n",
    "\n",
    "# Iterate through each of the lines, collecting the maps\n",
    "maps = {}\n",
    "cur_map = input_data_map_lines[0].split(\" \")[0]\n",
    "cur_map_range_rules = []\n",
    "for line in input_data_map_lines[1:]:\n",
    "    # Strip the line of newlines\n",
    "    stripped_line = line.strip()\n",
    "\n",
    "    # If this line is a blank string, skip it\n",
    "    if stripped_line == \"\":\n",
    "        continue\n",
    "\n",
    "    # If we come across a new map, we're going to finish parsing the previous map and\n",
    "    # set up the parsing of the next map\n",
    "    if \":\" in stripped_line:\n",
    "        maps[cur_map] = cur_map_range_rules\n",
    "        cur_map = stripped_line.split(\" \")[0]\n",
    "        cur_map_range_rules = []\n",
    "        continue\n",
    "\n",
    "    # Parse this line into the map range information\n",
    "    dest_range_start, source_range_start, range_length = [\n",
    "        int(x.strip()) for x in stripped_line.split(\" \")\n",
    "    ]\n",
    "\n",
    "    # Add the range rules to the cur_map_range_rules\n",
    "    cur_map_range_rules.append(\n",
    "        {\n",
    "            \"source_range_start\": source_range_start,\n",
    "            \"source_range_end\": source_range_start + range_length,\n",
    "            \"dest_range_start\": dest_range_start,\n",
    "            \"dest_range_end\": dest_range_start + range_length,\n",
    "            \"range_length\": range_length,\n",
    "        }\n",
    "    )\n",
    "\n",
    "# Add the last ruleset\n",
    "maps[cur_map] = cur_map_range_rules\n",
    "\n",
    "# Now, we're going to create a DataFrame of the range rules for each map\n",
    "map_range_rules_df_list = []\n",
    "for map_name, range_rules in maps.items():\n",
    "    cur_map_range_rules_df = pd.DataFrame.from_records(range_rules)\n",
    "    cur_map_range_rules_df[\"map_type\"] = map_name\n",
    "    cur_map_range_rules_df[\"map_source\"] = map_name.split(\"-\")[0]\n",
    "    cur_map_range_rules_df[\"map_dest\"] = map_name.split(\"-\")[-1]\n",
    "    map_range_rules_df_list.append(cur_map_range_rules_df)\n",
    "map_range_rules_df = pd.concat(map_range_rules_df_list)\n",
    "\n",
    "# Show off a couple of random rows from the map_range_rules_df\n",
    "map_range_rules_df.sample(5)"
   ]
  },
  {
   "cell_type": "markdown",
   "metadata": {},
   "source": [
    "Now that we've parsed this, we can create a function that determines the different numbers associated with each of the seeds."
   ]
  },
  {
   "cell_type": "code",
   "execution_count": 69,
   "metadata": {},
   "outputs": [],
   "source": [
    "def determine_seed_path(seed_number, map_range_rules_df, starting_source_type=\"seed\"):\n",
    "    \"\"\"\n",
    "    This method will pass the `seed_number` through the various maps in the map_range_rules_df,\n",
    "    determining which different numbers they ought to map to.\n",
    "    \"\"\"\n",
    "\n",
    "    # We're going to create a dictionary of the different numbers\n",
    "    numbers_dict = {}\n",
    "\n",
    "    # Starting on seed, we'll iterate through the different maps\n",
    "    cur_source_type = starting_source_type\n",
    "    cur_source_number = seed_number\n",
    "    while cur_source_type is not None:\n",
    "        # Determine the rules associated with the cur_source_type\n",
    "        cur_source_rules_df = map_range_rules_df.query(\"map_source==@cur_source_type\")\n",
    "\n",
    "        # Figure out the next source type\n",
    "        try:\n",
    "            next_source_type = cur_source_rules_df[\"map_dest\"].unique()[0]\n",
    "        # If we can't parse the next source type, we'll assume we're at the end of the \"path\"\n",
    "        except:\n",
    "            next_source_type = None\n",
    "\n",
    "        # Determine whether there's a rule that applies to the current number\n",
    "        cur_num_rule_df = cur_source_rules_df.query(\n",
    "            \"source_range_start <= @cur_source_number & source_range_end > @cur_source_number\"\n",
    "        )\n",
    "\n",
    "        # If there's no rule, then the cur_dest_number will just be the same as the cur_source_number\n",
    "        if len(cur_num_rule_df) == 0:\n",
    "            cur_dest_number = cur_source_number\n",
    "\n",
    "        # Otherwise, we'll determine what the cur_dest_number is by reading the range rule\n",
    "        else:\n",
    "            cur_num_rule_dict = cur_num_rule_df.iloc[0].to_dict()\n",
    "            idx_in_range = cur_source_number - cur_num_rule_dict.get(\n",
    "                \"source_range_start\"\n",
    "            )\n",
    "            cur_dest_number = cur_num_rule_dict.get(\"dest_range_start\") + idx_in_range\n",
    "\n",
    "        # Store all of the numbers for the current source type\n",
    "        numbers_dict[cur_source_type] = cur_source_number\n",
    "\n",
    "        # Now that we're done parsing the current source type, we'll iterate to the next one\n",
    "        cur_source_type = next_source_type\n",
    "        cur_source_number = cur_dest_number\n",
    "\n",
    "    # Return the numbers_dict\n",
    "    return numbers_dict"
   ]
  },
  {
   "cell_type": "markdown",
   "metadata": {},
   "source": [
    "With this method in hand, we can parse the paths for each of the seed numbers:"
   ]
  },
  {
   "cell_type": "code",
   "execution_count": 70,
   "metadata": {},
   "outputs": [
    {
     "data": {
      "text/html": [
       "<div>\n",
       "<style scoped>\n",
       "    .dataframe tbody tr th:only-of-type {\n",
       "        vertical-align: middle;\n",
       "    }\n",
       "\n",
       "    .dataframe tbody tr th {\n",
       "        vertical-align: top;\n",
       "    }\n",
       "\n",
       "    .dataframe thead th {\n",
       "        text-align: right;\n",
       "    }\n",
       "</style>\n",
       "<table border=\"1\" class=\"dataframe\">\n",
       "  <thead>\n",
       "    <tr style=\"text-align: right;\">\n",
       "      <th></th>\n",
       "      <th>seed</th>\n",
       "      <th>soil</th>\n",
       "      <th>fertilizer</th>\n",
       "      <th>water</th>\n",
       "      <th>light</th>\n",
       "      <th>temperature</th>\n",
       "      <th>humidity</th>\n",
       "      <th>location</th>\n",
       "    </tr>\n",
       "  </thead>\n",
       "  <tbody>\n",
       "    <tr>\n",
       "      <th>0</th>\n",
       "      <td>5844012</td>\n",
       "      <td>2735666402</td>\n",
       "      <td>3285684146</td>\n",
       "      <td>1494404667</td>\n",
       "      <td>3316329223</td>\n",
       "      <td>4047860789</td>\n",
       "      <td>4047860789</td>\n",
       "      <td>4217167942</td>\n",
       "    </tr>\n",
       "    <tr>\n",
       "      <th>1</th>\n",
       "      <td>110899473</td>\n",
       "      <td>2840721863</td>\n",
       "      <td>1897227649</td>\n",
       "      <td>3517164697</td>\n",
       "      <td>2090766680</td>\n",
       "      <td>4254909717</td>\n",
       "      <td>4135623259</td>\n",
       "      <td>1619680200</td>\n",
       "    </tr>\n",
       "    <tr>\n",
       "      <th>2</th>\n",
       "      <td>1132285750</td>\n",
       "      <td>3426553621</td>\n",
       "      <td>3361682440</td>\n",
       "      <td>1570402961</td>\n",
       "      <td>3392327517</td>\n",
       "      <td>3879033928</td>\n",
       "      <td>1153467296</td>\n",
       "      <td>1230040740</td>\n",
       "    </tr>\n",
       "    <tr>\n",
       "      <th>3</th>\n",
       "      <td>58870036</td>\n",
       "      <td>2788692426</td>\n",
       "      <td>3338710170</td>\n",
       "      <td>1547430691</td>\n",
       "      <td>3369355247</td>\n",
       "      <td>3856061658</td>\n",
       "      <td>1130495026</td>\n",
       "      <td>1207068470</td>\n",
       "    </tr>\n",
       "    <tr>\n",
       "      <th>4</th>\n",
       "      <td>986162929</td>\n",
       "      <td>3280430800</td>\n",
       "      <td>2849630923</td>\n",
       "      <td>2430993569</td>\n",
       "      <td>2333026939</td>\n",
       "      <td>3334793292</td>\n",
       "      <td>3935687364</td>\n",
       "      <td>4104994517</td>\n",
       "    </tr>\n",
       "  </tbody>\n",
       "</table>\n",
       "</div>"
      ],
      "text/plain": [
       "         seed        soil  fertilizer       water       light  temperature  \\\n",
       "0     5844012  2735666402  3285684146  1494404667  3316329223   4047860789   \n",
       "1   110899473  2840721863  1897227649  3517164697  2090766680   4254909717   \n",
       "2  1132285750  3426553621  3361682440  1570402961  3392327517   3879033928   \n",
       "3    58870036  2788692426  3338710170  1547430691  3369355247   3856061658   \n",
       "4   986162929  3280430800  2849630923  2430993569  2333026939   3334793292   \n",
       "\n",
       "     humidity    location  \n",
       "0  4047860789  4217167942  \n",
       "1  4135623259  1619680200  \n",
       "2  1153467296  1230040740  \n",
       "3  1130495026  1207068470  \n",
       "4  3935687364  4104994517  "
      ]
     },
     "execution_count": 70,
     "metadata": {},
     "output_type": "execute_result"
    }
   ],
   "source": [
    "# Create a DataFrame mapping each of the seed numbers to their corresponding numbers\n",
    "seed_numbers_to_other_source_numbers_df = pd.DataFrame.from_records(\n",
    "    [\n",
    "        determine_seed_path(seed_number, map_range_rules_df)\n",
    "        for seed_number in seed_numbers\n",
    "    ]\n",
    ")\n",
    "\n",
    "# Show off some of the rows of the DataFrame\n",
    "seed_numbers_to_other_source_numbers_df.head(5)"
   ]
  },
  {
   "cell_type": "markdown",
   "metadata": {},
   "source": [
    "Now to the main question: \n",
    "\n",
    "```\n",
    "What is the lowest location number that corresponds to any of the initial seed numbers?\n",
    "```"
   ]
  },
  {
   "cell_type": "code",
   "execution_count": 71,
   "metadata": {},
   "outputs": [
    {
     "name": "stdout",
     "output_type": "stream",
     "text": [
      "The lowest location number is '825516882'\n"
     ]
    }
   ],
   "source": [
    "# Determine the lowest location number and print it\n",
    "lowest_location_number = seed_numbers_to_other_source_numbers_df[\"location\"].min()\n",
    "print(f\"The lowest location number is '{lowest_location_number}'\")"
   ]
  },
  {
   "cell_type": "markdown",
   "metadata": {},
   "source": [
    "# Part 2: Parsing Seed Ranges\n",
    "The \"wrinkle\" in part 2 is that the initial \"seeds\" array is actually ranges of numbers, represented by a `start_seed_number` and a `range_length`. I figured that I'd be able to just re-run each of the numbers through my method, but it seems like that may not totally work - there are *quite* a few seed numbers. "
   ]
  },
  {
   "cell_type": "code",
   "execution_count": 72,
   "metadata": {},
   "outputs": [
    {
     "name": "stdout",
     "output_type": "stream",
     "text": [
      "There are 1,624,044,411 total seed numbers in the ranges.\n"
     ]
    }
   ],
   "source": [
    "# Determine how many seed numbers there will be in total\n",
    "range_lens = [seed_num for idx, seed_num in enumerate(seed_numbers) if idx % 2 == 1]\n",
    "print(f\"There are {sum(range_lens):,} total seed numbers in the ranges.\")"
   ]
  },
  {
   "cell_type": "markdown",
   "metadata": {},
   "source": [
    "I *think* that this will be solvable via some sort of math trick, since brute forcing over 1.5 billion seed numbers through this map will take quite some time. \n",
    "\n",
    "I could iterate *back* through the maps, trying to identify which range contains the smallest number? That seems promising. Let's reverse the rules:"
   ]
  },
  {
   "cell_type": "code",
   "execution_count": 73,
   "metadata": {},
   "outputs": [],
   "source": [
    "# Reverse the map_range_rules_df\n",
    "reverse_map_range_rules_df_records = []\n",
    "for row in map_range_rules_df.itertuples():\n",
    "    reverse_map_range_rules_df_records.append(\n",
    "        {\n",
    "            \"source_range_start\": row.dest_range_start,\n",
    "            \"source_range_end\": row.dest_range_end,\n",
    "            \"dest_range_start\": row.source_range_start,\n",
    "            \"dest_range_end\": row.source_range_end,\n",
    "            \"range_length\": row.range_length,\n",
    "            \"map_type\": f\"{row.map_dest}-to-{row.map_source}\",\n",
    "            \"map_source\": row.map_dest,\n",
    "            \"map_dest\": row.map_source,\n",
    "        }\n",
    "    )\n",
    "reverse_map_range_rules_df = pd.DataFrame.from_records(\n",
    "    reverse_map_range_rules_df_records\n",
    ")"
   ]
  },
  {
   "cell_type": "markdown",
   "metadata": {},
   "source": [
    "Now, with these rules reversed, we'll try and identify which of the ranges contains a possible number."
   ]
  },
  {
   "cell_type": "code",
   "execution_count": 77,
   "metadata": {},
   "outputs": [],
   "source": [
    "# Create a list of the location numbers\n",
    "test_location_numbers = []\n",
    "for row in (\n",
    "    reverse_map_range_rules_df.query(\"map_source=='location'\")\n",
    "    .sort_values(\"source_range_start\", ascending=True)\n",
    "    .itertuples()\n",
    "):\n",
    "    test_location_numbers.append(row.source_range_start)\n",
    "    test_location_numbers.append(row.source_range_end - 1)\n",
    "\n",
    "# Create a DataFrame from the reverse traces\n",
    "location_num_bounds_df = pd.DataFrame.from_records(\n",
    "    [\n",
    "        determine_seed_path(\n",
    "            location_num, reverse_map_range_rules_df, starting_source_type=\"location\"\n",
    "        )\n",
    "        for location_num in test_location_numbers\n",
    "    ]\n",
    ")"
   ]
  },
  {
   "cell_type": "markdown",
   "metadata": {},
   "source": [
    "Now, we need to determine which of these location numbers produces seed numbers within the different ranges. "
   ]
  },
  {
   "cell_type": "code",
   "execution_count": 91,
   "metadata": {},
   "outputs": [
    {
     "name": "stdout",
     "output_type": "stream",
     "text": [
      "The smallest location value I found is '222429953'\n"
     ]
    }
   ],
   "source": [
    "# Determine all of the ranges\n",
    "seed_ranges = []\n",
    "for range_idx in range(int(len(seed_numbers) / 2)):\n",
    "    seed_ranges.append((seed_numbers[range_idx * 2], seed_numbers[(range_idx * 2) + 1]))\n",
    "\n",
    "\n",
    "def determine_if_seed_number_in_range(seed_number, seed_ranges):\n",
    "    \"\"\"\n",
    "    This helper method will determine whether or not a seed number is in the possible seed ranges\n",
    "    \"\"\"\n",
    "    for seed_range in seed_ranges:\n",
    "        if seed_number >= seed_range[0] and seed_number < (\n",
    "            seed_range[0] + seed_range[1]\n",
    "        ):\n",
    "            return True\n",
    "    return False\n",
    "\n",
    "\n",
    "# Add the \"valid_seed_num\" column using the method above\n",
    "location_num_bounds_df[\"valid_seed_num\"] = location_num_bounds_df[\"seed\"].apply(\n",
    "    lambda seed_num: determine_if_seed_number_in_range(seed_num, seed_ranges)\n",
    ")\n",
    "\n",
    "smallest_location_val = location_num_bounds_df[\n",
    "    location_num_bounds_df[\"valid_seed_num\"]\n",
    "][\"location\"].min()\n",
    "print(f\"The smallest location value I found is '{smallest_location_val}'\")"
   ]
  },
  {
   "cell_type": "markdown",
   "metadata": {},
   "source": [
    "Now: it seems like the smallest location number needs to be between 0 and 222429953. I could probably do some sort of binary search to figure out the lowest number. "
   ]
  },
  {
   "cell_type": "code",
   "execution_count": 174,
   "metadata": {},
   "outputs": [],
   "source": [
    "def determine_if_location_num_is_valid(location_num):\n",
    "    \"\"\"\n",
    "    Helper method for determining if a location number is valid\n",
    "    \"\"\"\n",
    "    return determine_if_seed_number_in_range(\n",
    "        determine_seed_path(\n",
    "            location_num, reverse_map_range_rules_df, starting_source_type=\"location\"\n",
    "        ).get(\"seed\"),\n",
    "        seed_ranges,\n",
    "    )\n",
    "\n",
    "\n",
    "def identify_lowest_valid_location_number(cur_left, cur_right):\n",
    "    \"\"\"\n",
    "    This is a recursive method that will try and run binary search on ranges of location numbers.\n",
    "    \"\"\"\n",
    "\n",
    "    # Determine the midpoint between these\n",
    "    cur_mid = cur_left + math.floor((cur_right - cur_left) / 2)\n",
    "    cur_range = cur_right - cur_left\n",
    "\n",
    "    # Determine if the left is possible\n",
    "    left_possible = determine_if_location_num_is_valid(cur_left)\n",
    "    mid_possible = determine_if_location_num_is_valid(cur_mid)\n",
    "    right_possible = determine_if_location_num_is_valid(cur_right)\n",
    "\n",
    "    # If the middle is possible, we're going to look at the smaller range\n",
    "    if cur_range <= 1 and right_possible:\n",
    "        return cur_right\n",
    "    elif mid_possible and not left_possible:\n",
    "        return identify_lowest_valid_location_number(cur_left, cur_mid)\n",
    "    elif right_possible and not mid_possible:\n",
    "        return identify_lowest_valid_location_number(cur_mid, cur_right)\n",
    "    elif left_possible:\n",
    "        return cur_left\n",
    "    "
   ]
  },
  {
   "cell_type": "code",
   "execution_count": 179,
   "metadata": {},
   "outputs": [
    {
     "data": {
      "text/plain": [
       "136096660"
      ]
     },
     "execution_count": 179,
     "metadata": {},
     "output_type": "execute_result"
    }
   ],
   "source": [
    "cur_left = 0\n",
    "cur_right = 222429953\n",
    "lowest_in_range = identify_lowest_valid_location_number(cur_left, cur_right)\n",
    "while lowest_in_range != cur_right:\n",
    "    cur_left = cur_left\n",
    "    cur_right = lowest_in_range\n",
    "    lowest_in_range = identify_lowest_valid_location_number(cur_left, cur_right)\n",
    "lowest_in_range"
   ]
  },
  {
   "cell_type": "markdown",
   "metadata": {},
   "source": [
    "My solution to this bit was pretty messy, but I did get it done! "
   ]
  },
  {
   "cell_type": "code",
   "execution_count": null,
   "metadata": {},
   "outputs": [],
   "source": []
  }
 ],
 "metadata": {
  "kernelspec": {
   "display_name": ".venv",
   "language": "python",
   "name": "python3"
  },
  "language_info": {
   "codemirror_mode": {
    "name": "ipython",
    "version": 3
   },
   "file_extension": ".py",
   "mimetype": "text/x-python",
   "name": "python",
   "nbconvert_exporter": "python",
   "pygments_lexer": "ipython3",
   "version": "3.11.0"
  }
 },
 "nbformat": 4,
 "nbformat_minor": 2
}
