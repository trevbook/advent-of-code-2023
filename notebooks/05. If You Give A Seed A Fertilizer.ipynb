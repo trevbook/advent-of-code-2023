{
 "cells": [
  {
   "cell_type": "markdown",
   "metadata": {},
   "source": [
    "# **Day 5: If You Give A Seed A Fertilizer**\n",
    "\n",
    "This one seems a little convoluted, but ultimately not *too* hard - just need to do some careful parsing. "
   ]
  },
  {
   "cell_type": "markdown",
   "metadata": {},
   "source": [
    "# Setup\n",
    "The cells below will set up the rest of the notebook. \n",
    "\n",
    "I'll start by configuring my kernel:"
   ]
  },
  {
   "cell_type": "code",
   "execution_count": 1,
   "metadata": {},
   "outputs": [
    {
     "name": "stdout",
     "output_type": "stream",
     "text": [
      "/Users/thubbard/Documents/Personal/Programming/advent-of-code-2023\n"
     ]
    }
   ],
   "source": [
    "# Changing the current working directory\n",
    "%cd ..\n",
    "\n",
    "# Enabling the autoreload extension\n",
    "%load_ext autoreload\n",
    "%autoreload 2"
   ]
  },
  {
   "cell_type": "markdown",
   "metadata": {},
   "source": [
    "Now, I'm going to import some libraries:"
   ]
  },
  {
   "cell_type": "code",
   "execution_count": 2,
   "metadata": {},
   "outputs": [],
   "source": [
    "# Import statements\n",
    "import pandas as pd\n",
    "import re"
   ]
  },
  {
   "cell_type": "markdown",
   "metadata": {},
   "source": [
    "Finally, I'll load in the data for this puzzle. "
   ]
  },
  {
   "cell_type": "code",
   "execution_count": 3,
   "metadata": {},
   "outputs": [],
   "source": [
    "# Load in the data for the puzzle\n",
    "with open(\"data/input-files/day-05-input.txt\", \"r\") as txt_file:\n",
    "    input_data = txt_file.readlines()"
   ]
  },
  {
   "cell_type": "markdown",
   "metadata": {},
   "source": [
    "# Parsing the Input Data\n",
    "First thing's first: I need to iterate through each of the lines in the `input_data` and parse out the maps. "
   ]
  },
  {
   "cell_type": "code",
   "execution_count": 125,
   "metadata": {},
   "outputs": [
    {
     "data": {
      "text/html": [
       "<div>\n",
       "<style scoped>\n",
       "    .dataframe tbody tr th:only-of-type {\n",
       "        vertical-align: middle;\n",
       "    }\n",
       "\n",
       "    .dataframe tbody tr th {\n",
       "        vertical-align: top;\n",
       "    }\n",
       "\n",
       "    .dataframe thead th {\n",
       "        text-align: right;\n",
       "    }\n",
       "</style>\n",
       "<table border=\"1\" class=\"dataframe\">\n",
       "  <thead>\n",
       "    <tr style=\"text-align: right;\">\n",
       "      <th></th>\n",
       "      <th>dest_range_start</th>\n",
       "      <th>source_range_start</th>\n",
       "      <th>source_range_end</th>\n",
       "      <th>range_length</th>\n",
       "      <th>map_type</th>\n",
       "      <th>map_source</th>\n",
       "      <th>map_dest</th>\n",
       "    </tr>\n",
       "  </thead>\n",
       "  <tbody>\n",
       "    <tr>\n",
       "      <th>20</th>\n",
       "      <td>1929736108</td>\n",
       "      <td>2563409394</td>\n",
       "      <td>2623931701</td>\n",
       "      <td>60522307</td>\n",
       "      <td>soil-to-fertilizer</td>\n",
       "      <td>soil</td>\n",
       "      <td>fertilizer</td>\n",
       "    </tr>\n",
       "    <tr>\n",
       "      <th>28</th>\n",
       "      <td>3117493441</td>\n",
       "      <td>2792037356</td>\n",
       "      <td>2925825589</td>\n",
       "      <td>133788233</td>\n",
       "      <td>temperature-to-humidity</td>\n",
       "      <td>temperature</td>\n",
       "      <td>humidity</td>\n",
       "    </tr>\n",
       "    <tr>\n",
       "      <th>15</th>\n",
       "      <td>4096970661</td>\n",
       "      <td>1633036395</td>\n",
       "      <td>1691981480</td>\n",
       "      <td>58945085</td>\n",
       "      <td>light-to-temperature</td>\n",
       "      <td>light</td>\n",
       "      <td>temperature</td>\n",
       "    </tr>\n",
       "    <tr>\n",
       "      <th>11</th>\n",
       "      <td>2765973467</td>\n",
       "      <td>292784384</td>\n",
       "      <td>376201353</td>\n",
       "      <td>83416969</td>\n",
       "      <td>light-to-temperature</td>\n",
       "      <td>light</td>\n",
       "      <td>temperature</td>\n",
       "    </tr>\n",
       "    <tr>\n",
       "      <th>9</th>\n",
       "      <td>646363825</td>\n",
       "      <td>441617961</td>\n",
       "      <td>536395134</td>\n",
       "      <td>94777173</td>\n",
       "      <td>fertilizer-to-water</td>\n",
       "      <td>fertilizer</td>\n",
       "      <td>water</td>\n",
       "    </tr>\n",
       "  </tbody>\n",
       "</table>\n",
       "</div>"
      ],
      "text/plain": [
       "    dest_range_start  source_range_start  source_range_end  range_length  \\\n",
       "20        1929736108          2563409394        2623931701      60522307   \n",
       "28        3117493441          2792037356        2925825589     133788233   \n",
       "15        4096970661          1633036395        1691981480      58945085   \n",
       "11        2765973467           292784384         376201353      83416969   \n",
       "9          646363825           441617961         536395134      94777173   \n",
       "\n",
       "                   map_type   map_source     map_dest  \n",
       "20       soil-to-fertilizer         soil   fertilizer  \n",
       "28  temperature-to-humidity  temperature     humidity  \n",
       "15     light-to-temperature        light  temperature  \n",
       "11     light-to-temperature        light  temperature  \n",
       "9       fertilizer-to-water   fertilizer        water  "
      ]
     },
     "execution_count": 125,
     "metadata": {},
     "output_type": "execute_result"
    }
   ],
   "source": [
    "# Parse the seeds from the input_data\n",
    "seed_numbers = [int(x.strip()) for x in input_data[0].split(\":\")[1].strip().split(\" \")]\n",
    "\n",
    "# Make a list of only the lines that contain maps\n",
    "input_data_map_lines = input_data[2:]\n",
    "\n",
    "# Iterate through each of the lines, collecting the maps\n",
    "maps = {}\n",
    "cur_map = input_data_map_lines[0].split(\" \")[0]\n",
    "cur_map_range_rules = []\n",
    "for line in input_data_map_lines[1:]:\n",
    "    # Strip the line of newlines\n",
    "    stripped_line = line.strip()\n",
    "\n",
    "    # If this line is a blank string, skip it\n",
    "    if stripped_line == \"\":\n",
    "        continue\n",
    "\n",
    "    # If we come across a new map, we're going to finish parsing the previous map and\n",
    "    # set up the parsing of the next map\n",
    "    if \":\" in stripped_line:\n",
    "        maps[cur_map] = cur_map_range_rules\n",
    "        cur_map = stripped_line.split(\" \")[0]\n",
    "        cur_map_range_rules = []\n",
    "        continue\n",
    "\n",
    "    # Parse this line into the map range information\n",
    "    dest_range_start, source_range_start, range_length = [\n",
    "        int(x.strip()) for x in stripped_line.split(\" \")\n",
    "    ]\n",
    "\n",
    "    # Add the range rules to the cur_map_range_rules\n",
    "    cur_map_range_rules.append(\n",
    "        {\n",
    "            \"dest_range_start\": dest_range_start,\n",
    "            \"source_range_start\": source_range_start,\n",
    "            \"source_range_end\": source_range_start + range_length,\n",
    "            \"range_length\": range_length,\n",
    "        }\n",
    "    )\n",
    "\n",
    "# Add the last ruleset\n",
    "maps[cur_map] = cur_map_range_rules\n",
    "\n",
    "# Now, we're going to create a DataFrame of the range rules for each map\n",
    "map_range_rules_df_list = []\n",
    "for map_name, range_rules in maps.items():\n",
    "    cur_map_range_rules_df = pd.DataFrame.from_records(range_rules)\n",
    "    cur_map_range_rules_df[\"map_type\"] = map_name\n",
    "    cur_map_range_rules_df[\"map_source\"] = map_name.split(\"-\")[0]\n",
    "    cur_map_range_rules_df[\"map_dest\"] = map_name.split(\"-\")[-1]\n",
    "    map_range_rules_df_list.append(cur_map_range_rules_df)\n",
    "map_range_rules_df = pd.concat(map_range_rules_df_list)\n",
    "\n",
    "# Show off a couple of random rows from the map_range_rules_df\n",
    "map_range_rules_df.sample(5)"
   ]
  },
  {
   "cell_type": "markdown",
   "metadata": {},
   "source": [
    "Now that we've parsed this, we can create a function that determines the different numbers associated with each of the seeds."
   ]
  },
  {
   "cell_type": "code",
   "execution_count": 126,
   "metadata": {},
   "outputs": [],
   "source": [
    "def determine_seed_path(seed_number, map_range_rules_df):\n",
    "    \"\"\"\n",
    "    This method will pass the `seed_number` through the various maps in the map_range_rules_df, \n",
    "    determining which different numbers they ought to map to. \n",
    "    \"\"\"\n",
    "    \n",
    "    # We're going to create a dictionary of the different numbers\n",
    "    numbers_dict = {}\n",
    "\n",
    "    # Starting on seed, we'll iterate through the different maps \n",
    "    cur_source_type = \"seed\"\n",
    "    cur_source_number = seed_number\n",
    "    while cur_source_type is not None:\n",
    "        \n",
    "        # Determine the rules associated with the cur_source_type\n",
    "        cur_source_rules_df = map_range_rules_df.query(\"map_source==@cur_source_type\")\n",
    "        \n",
    "        # Figure out the next source type\n",
    "        try:\n",
    "            next_source_type = cur_source_rules_df[\"map_dest\"].unique()[0]\n",
    "        # If we can't parse the next source type, we'll assume we're at the end of the \"path\"\n",
    "        except: \n",
    "            next_source_type = None\n",
    "        \n",
    "        # Determine whether there's a rule that applies to the current number\n",
    "        cur_num_rule_df = cur_source_rules_df.query(\"source_range_start <= @cur_source_number & source_range_end >= @cur_source_number\")\n",
    "        \n",
    "        # If there's no rule, then the cur_dest_number will just be the same as the cur_source_number\n",
    "        if len(cur_num_rule_df) == 0:\n",
    "            cur_dest_number = cur_source_number\n",
    "        \n",
    "        # Otherwise, we'll determine what the cur_dest_number is by reading the range rule\n",
    "        else:\n",
    "            cur_num_rule_dict = cur_num_rule_df.iloc[0].to_dict()\n",
    "            idx_in_range = cur_source_number - cur_num_rule_dict.get(\"source_range_start\")\n",
    "            cur_dest_number = cur_num_rule_dict.get(\"dest_range_start\") + idx_in_range\n",
    "        \n",
    "        # Store all of the numbers for the current source type\n",
    "        numbers_dict[cur_source_type] = cur_source_number\n",
    "        \n",
    "        # Now that we're done parsing the current source type, we'll iterate to the next one\n",
    "        cur_source_type = next_source_type\n",
    "        cur_source_number = cur_dest_number\n",
    "\n",
    "    # Return the numbers_dict\n",
    "    return numbers_dict"
   ]
  },
  {
   "cell_type": "markdown",
   "metadata": {},
   "source": [
    "With this method in hand, we can parse the paths for each of the seed numbers:"
   ]
  },
  {
   "cell_type": "code",
   "execution_count": 127,
   "metadata": {},
   "outputs": [
    {
     "data": {
      "text/html": [
       "<div>\n",
       "<style scoped>\n",
       "    .dataframe tbody tr th:only-of-type {\n",
       "        vertical-align: middle;\n",
       "    }\n",
       "\n",
       "    .dataframe tbody tr th {\n",
       "        vertical-align: top;\n",
       "    }\n",
       "\n",
       "    .dataframe thead th {\n",
       "        text-align: right;\n",
       "    }\n",
       "</style>\n",
       "<table border=\"1\" class=\"dataframe\">\n",
       "  <thead>\n",
       "    <tr style=\"text-align: right;\">\n",
       "      <th></th>\n",
       "      <th>seed</th>\n",
       "      <th>soil</th>\n",
       "      <th>fertilizer</th>\n",
       "      <th>water</th>\n",
       "      <th>light</th>\n",
       "      <th>temperature</th>\n",
       "      <th>humidity</th>\n",
       "      <th>location</th>\n",
       "    </tr>\n",
       "  </thead>\n",
       "  <tbody>\n",
       "    <tr>\n",
       "      <th>0</th>\n",
       "      <td>5844012</td>\n",
       "      <td>2735666402</td>\n",
       "      <td>3285684146</td>\n",
       "      <td>1494404667</td>\n",
       "      <td>3316329223</td>\n",
       "      <td>4047860789</td>\n",
       "      <td>4047860789</td>\n",
       "      <td>4217167942</td>\n",
       "    </tr>\n",
       "    <tr>\n",
       "      <th>1</th>\n",
       "      <td>110899473</td>\n",
       "      <td>2840721863</td>\n",
       "      <td>1897227649</td>\n",
       "      <td>3517164697</td>\n",
       "      <td>2090766680</td>\n",
       "      <td>4254909717</td>\n",
       "      <td>4135623259</td>\n",
       "      <td>1619680200</td>\n",
       "    </tr>\n",
       "    <tr>\n",
       "      <th>2</th>\n",
       "      <td>1132285750</td>\n",
       "      <td>3426553621</td>\n",
       "      <td>3361682440</td>\n",
       "      <td>1570402961</td>\n",
       "      <td>3392327517</td>\n",
       "      <td>3879033928</td>\n",
       "      <td>1153467296</td>\n",
       "      <td>1230040740</td>\n",
       "    </tr>\n",
       "    <tr>\n",
       "      <th>3</th>\n",
       "      <td>58870036</td>\n",
       "      <td>2788692426</td>\n",
       "      <td>3338710170</td>\n",
       "      <td>1547430691</td>\n",
       "      <td>3369355247</td>\n",
       "      <td>3856061658</td>\n",
       "      <td>1130495026</td>\n",
       "      <td>1207068470</td>\n",
       "    </tr>\n",
       "    <tr>\n",
       "      <th>4</th>\n",
       "      <td>986162929</td>\n",
       "      <td>3280430800</td>\n",
       "      <td>2849630923</td>\n",
       "      <td>2430993569</td>\n",
       "      <td>2333026939</td>\n",
       "      <td>3334793292</td>\n",
       "      <td>3935687364</td>\n",
       "      <td>4104994517</td>\n",
       "    </tr>\n",
       "  </tbody>\n",
       "</table>\n",
       "</div>"
      ],
      "text/plain": [
       "         seed        soil  fertilizer       water       light  temperature  \\\n",
       "0     5844012  2735666402  3285684146  1494404667  3316329223   4047860789   \n",
       "1   110899473  2840721863  1897227649  3517164697  2090766680   4254909717   \n",
       "2  1132285750  3426553621  3361682440  1570402961  3392327517   3879033928   \n",
       "3    58870036  2788692426  3338710170  1547430691  3369355247   3856061658   \n",
       "4   986162929  3280430800  2849630923  2430993569  2333026939   3334793292   \n",
       "\n",
       "     humidity    location  \n",
       "0  4047860789  4217167942  \n",
       "1  4135623259  1619680200  \n",
       "2  1153467296  1230040740  \n",
       "3  1130495026  1207068470  \n",
       "4  3935687364  4104994517  "
      ]
     },
     "execution_count": 127,
     "metadata": {},
     "output_type": "execute_result"
    }
   ],
   "source": [
    "# Create a DataFrame mapping each of the seed numbers to their corresponding numbers\n",
    "seed_numbers_to_other_source_numbers_df = pd.DataFrame.from_records(\n",
    "    [\n",
    "        determine_seed_path(seed_number, map_range_rules_df)\n",
    "        for seed_number in seed_numbers\n",
    "    ]\n",
    ")\n",
    "\n",
    "# Show off some of the rows of the DataFrame\n",
    "seed_numbers_to_other_source_numbers_df.head(5)"
   ]
  },
  {
   "cell_type": "markdown",
   "metadata": {},
   "source": [
    "Now to the main question: \n",
    "\n",
    "```\n",
    "What is the lowest location number that corresponds to any of the initial seed numbers?\n",
    "```"
   ]
  },
  {
   "cell_type": "code",
   "execution_count": 129,
   "metadata": {},
   "outputs": [
    {
     "name": "stdout",
     "output_type": "stream",
     "text": [
      "The lowest location number is '825516882'\n"
     ]
    }
   ],
   "source": [
    "# Determine the lowest location number and print it\n",
    "lowest_location_number = seed_numbers_to_other_source_numbers_df[\"location\"].min()\n",
    "print(f\"The lowest location number is '{lowest_location_number}'\")"
   ]
  },
  {
   "cell_type": "code",
   "execution_count": null,
   "metadata": {},
   "outputs": [],
   "source": []
  }
 ],
 "metadata": {
  "kernelspec": {
   "display_name": ".venv",
   "language": "python",
   "name": "python3"
  },
  "language_info": {
   "codemirror_mode": {
    "name": "ipython",
    "version": 3
   },
   "file_extension": ".py",
   "mimetype": "text/x-python",
   "name": "python",
   "nbconvert_exporter": "python",
   "pygments_lexer": "ipython3",
   "version": "3.11.0"
  }
 },
 "nbformat": 4,
 "nbformat_minor": 2
}
