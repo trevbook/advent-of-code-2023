{
 "cells": [
  {
   "cell_type": "markdown",
   "metadata": {},
   "source": [
    "# **Day 2: Cube Conundrum**\n",
    "This one doesn't seem too bad! Answering the first part seems pretty easy, but I want to build up a pretty robust parsing method in case Part 2 is a little harder. "
   ]
  },
  {
   "cell_type": "markdown",
   "metadata": {},
   "source": [
    "# Setup\n",
    "The cells below will set up the rest of the notebook. \n",
    "\n",
    "I'll start by configuring my kernel:"
   ]
  },
  {
   "cell_type": "code",
   "execution_count": 1,
   "metadata": {},
   "outputs": [
    {
     "name": "stdout",
     "output_type": "stream",
     "text": [
      "d:\\data\\programming\\advent-of-code-2023\n"
     ]
    }
   ],
   "source": [
    "# Changing the current working directory\n",
    "%cd ..\n",
    "\n",
    "# Enabling the autoreload extension\n",
    "%load_ext autoreload\n",
    "%autoreload 2"
   ]
  },
  {
   "cell_type": "markdown",
   "metadata": {},
   "source": [
    "Now, I'm going to import some libraries:"
   ]
  },
  {
   "cell_type": "code",
   "execution_count": 2,
   "metadata": {},
   "outputs": [],
   "source": [
    "# Import statements\n",
    "import pandas as pd\n",
    "import re"
   ]
  },
  {
   "cell_type": "markdown",
   "metadata": {},
   "source": [
    "Finally, I'll load in the data for this puzzle. "
   ]
  },
  {
   "cell_type": "code",
   "execution_count": 3,
   "metadata": {},
   "outputs": [],
   "source": [
    "# Load in the data for the puzzle\n",
    "with open(\"data/input-files/day-02-input.txt\", \"r\") as txt_file:\n",
    "    input_data = txt_file.readlines()"
   ]
  },
  {
   "cell_type": "markdown",
   "metadata": {},
   "source": [
    "# Parsing the Input Data\n",
    "I need to create a method that will parse the input data. Below, I'll define a method that will extract all sorts of data points from each of the lines of the input data."
   ]
  },
  {
   "cell_type": "code",
   "execution_count": 58,
   "metadata": {},
   "outputs": [],
   "source": [
    "def parse_game_record(input_str):\n",
    "    \"\"\"\n",
    "    This method will parse different pieces of info from the `input_str`, which\n",
    "    represents a record of one of the elf's cube games (lol)\n",
    "    \"\"\"\n",
    "\n",
    "    # Indicate the possible cube colors\n",
    "    cube_colors = [\"red\", \"green\", \"blue\"]\n",
    "\n",
    "    # Extract the game ID from the input_str\n",
    "    game_id = int(input_str.split(\":\")[0].split(\" \")[-1])\n",
    "\n",
    "    # Extract each of the set strings\n",
    "    set_strings = [x.strip() for x in input_str.split(\":\")[-1].strip().split(\";\")]\n",
    "\n",
    "    # Parse the set strings into set record dicts\n",
    "    def parse_set_record_from_set_string(set_str):\n",
    "        \"\"\"\n",
    "        This helper method will parse a `set_str`, which looks like this:\n",
    "\n",
    "        `'7 green, 4 blue, 3 red'`\n",
    "\n",
    "        It'll return a dictionary that looks like this:\n",
    "\n",
    "        `{\"green\": 7, \"blue\": 4, \"red\": 3}`\n",
    "\n",
    "        It'll *always* have numerical values for each of the colors. If a color is missing from\n",
    "        a particular set_str, it'll be added in.\n",
    "        \"\"\"\n",
    "\n",
    "        # Parse a dictionary from the set_str\n",
    "        set_dict = {\n",
    "            color_record.split(\" \")[-1]: int(color_record.split(\" \")[0])\n",
    "            for color_record in [x.strip() for x in set_str.split(\",\")]\n",
    "        }\n",
    "\n",
    "        # Add in the missing keys\n",
    "        for key in cube_colors:\n",
    "            if key not in set_dict:\n",
    "                set_dict[key] = 0\n",
    "\n",
    "        # Return the set_dict\n",
    "        return set_dict\n",
    "\n",
    "    # Parse each of the set_strings into set_dicts\n",
    "    set_dicts = [parse_set_record_from_set_string(set_str) for set_str in set_strings]\n",
    "\n",
    "    # Identify the maximum and minimum number of reds, greens, and blues in total\n",
    "    min_val_by_color = {}\n",
    "    max_val_by_color = {}\n",
    "    for color in cube_colors:\n",
    "        # Identify each of the counts associated with this color\n",
    "        color_cts = [set_dict.get(color) for set_dict in set_dicts]\n",
    "\n",
    "        # Extract the minimum and maximum\n",
    "        min_val_by_color[color] = min(color_cts)\n",
    "        max_val_by_color[color] = max(color_cts)\n",
    "\n",
    "    # Determine the minimum / maximum number of cubes in the bag\n",
    "    min_num_cubes = sum([ct for color, ct in min_val_by_color.items()])\n",
    "    max_num_cubes = sum([ct for color, ct in max_val_by_color.items()])\n",
    "\n",
    "    # Now, we're going to create a dictionary containing all of the pertinent information\n",
    "    # about the game record\n",
    "    game_record_info_dict = (\n",
    "        {\n",
    "            \"game_id\": game_id,\n",
    "            \"original_str\": input_str,\n",
    "            \"set_strings\": set_strings,\n",
    "            \"set_dicts\": set_dicts,\n",
    "            \"minimum_amt_of_cubes\": min_num_cubes,\n",
    "            \"maximum_amt_of_cubes\": max_num_cubes,\n",
    "        }\n",
    "        | {f\"min_{color}\": min_val_by_color[color] for color in cube_colors}\n",
    "        | {f\"max_{color}\": max_val_by_color[color] for color in cube_colors}\n",
    "    )\n",
    "\n",
    "    # Return the game_record_info_dict\n",
    "    return game_record_info_dict"
   ]
  },
  {
   "cell_type": "markdown",
   "metadata": {},
   "source": [
    "That method might've been unecessarily complex, but I'm going to get a lot of mileage out of it. Let's make a `DataFrame` of all of the information I can extract from each game. "
   ]
  },
  {
   "cell_type": "code",
   "execution_count": 59,
   "metadata": {},
   "outputs": [
    {
     "data": {
      "text/html": [
       "<div>\n",
       "<style scoped>\n",
       "    .dataframe tbody tr th:only-of-type {\n",
       "        vertical-align: middle;\n",
       "    }\n",
       "\n",
       "    .dataframe tbody tr th {\n",
       "        vertical-align: top;\n",
       "    }\n",
       "\n",
       "    .dataframe thead th {\n",
       "        text-align: right;\n",
       "    }\n",
       "</style>\n",
       "<table border=\"1\" class=\"dataframe\">\n",
       "  <thead>\n",
       "    <tr style=\"text-align: right;\">\n",
       "      <th></th>\n",
       "      <th>game_id</th>\n",
       "      <th>original_str</th>\n",
       "      <th>set_strings</th>\n",
       "      <th>set_dicts</th>\n",
       "      <th>minimum_amt_of_cubes</th>\n",
       "      <th>maximum_amt_of_cubes</th>\n",
       "      <th>min_red</th>\n",
       "      <th>min_green</th>\n",
       "      <th>min_blue</th>\n",
       "      <th>max_red</th>\n",
       "      <th>max_green</th>\n",
       "      <th>max_blue</th>\n",
       "    </tr>\n",
       "  </thead>\n",
       "  <tbody>\n",
       "    <tr>\n",
       "      <th>0</th>\n",
       "      <td>1</td>\n",
       "      <td>Game 1: 7 green, 4 blue, 3 red; 4 blue, 10 red...</td>\n",
       "      <td>[7 green, 4 blue, 3 red, 4 blue, 10 red, 1 gre...</td>\n",
       "      <td>[{'green': 7, 'blue': 4, 'red': 3}, {'blue': 4...</td>\n",
       "      <td>4</td>\n",
       "      <td>21</td>\n",
       "      <td>3</td>\n",
       "      <td>0</td>\n",
       "      <td>1</td>\n",
       "      <td>10</td>\n",
       "      <td>7</td>\n",
       "      <td>4</td>\n",
       "    </tr>\n",
       "    <tr>\n",
       "      <th>1</th>\n",
       "      <td>2</td>\n",
       "      <td>Game 2: 2 red, 4 blue, 3 green; 5 green, 3 red...</td>\n",
       "      <td>[2 red, 4 blue, 3 green, 5 green, 3 red, 1 blu...</td>\n",
       "      <td>[{'red': 2, 'blue': 4, 'green': 3}, {'green': ...</td>\n",
       "      <td>6</td>\n",
       "      <td>13</td>\n",
       "      <td>2</td>\n",
       "      <td>3</td>\n",
       "      <td>1</td>\n",
       "      <td>3</td>\n",
       "      <td>5</td>\n",
       "      <td>5</td>\n",
       "    </tr>\n",
       "    <tr>\n",
       "      <th>2</th>\n",
       "      <td>3</td>\n",
       "      <td>Game 3: 12 red, 1 blue; 6 red, 2 green, 3 blue...</td>\n",
       "      <td>[12 red, 1 blue, 6 red, 2 green, 3 blue, 2 blu...</td>\n",
       "      <td>[{'red': 12, 'blue': 1, 'green': 0}, {'red': 6...</td>\n",
       "      <td>6</td>\n",
       "      <td>18</td>\n",
       "      <td>5</td>\n",
       "      <td>0</td>\n",
       "      <td>1</td>\n",
       "      <td>12</td>\n",
       "      <td>3</td>\n",
       "      <td>3</td>\n",
       "    </tr>\n",
       "  </tbody>\n",
       "</table>\n",
       "</div>"
      ],
      "text/plain": [
       "   game_id                                       original_str  \\\n",
       "0        1  Game 1: 7 green, 4 blue, 3 red; 4 blue, 10 red...   \n",
       "1        2  Game 2: 2 red, 4 blue, 3 green; 5 green, 3 red...   \n",
       "2        3  Game 3: 12 red, 1 blue; 6 red, 2 green, 3 blue...   \n",
       "\n",
       "                                         set_strings  \\\n",
       "0  [7 green, 4 blue, 3 red, 4 blue, 10 red, 1 gre...   \n",
       "1  [2 red, 4 blue, 3 green, 5 green, 3 red, 1 blu...   \n",
       "2  [12 red, 1 blue, 6 red, 2 green, 3 blue, 2 blu...   \n",
       "\n",
       "                                           set_dicts  minimum_amt_of_cubes  \\\n",
       "0  [{'green': 7, 'blue': 4, 'red': 3}, {'blue': 4...                     4   \n",
       "1  [{'red': 2, 'blue': 4, 'green': 3}, {'green': ...                     6   \n",
       "2  [{'red': 12, 'blue': 1, 'green': 0}, {'red': 6...                     6   \n",
       "\n",
       "   maximum_amt_of_cubes  min_red  min_green  min_blue  max_red  max_green  \\\n",
       "0                    21        3          0         1       10          7   \n",
       "1                    13        2          3         1        3          5   \n",
       "2                    18        5          0         1       12          3   \n",
       "\n",
       "   max_blue  \n",
       "0         4  \n",
       "1         5  \n",
       "2         3  "
      ]
     },
     "execution_count": 59,
     "metadata": {},
     "output_type": "execute_result"
    }
   ],
   "source": [
    "# Parse each of the game_record_str from the `input_data`\n",
    "game_record_info_df = pd.DataFrame.from_records(\n",
    "    [parse_game_record(game_record_str) for game_record_str in input_data]\n",
    ")\n",
    "\n",
    "# Show the first couple of rows of the DataFrame\n",
    "game_record_info_df.head(3)"
   ]
  },
  {
   "cell_type": "markdown",
   "metadata": {},
   "source": [
    "# Answering the Elf's Question\n",
    "Now that I've got parsed input data, I can actually answer the Elf's question: \n",
    "\n",
    "```\n",
    "The Elf would first like to know which games would have been possible if the bag contained only 12 red cubes, 13 green cubes, and 14 blue cubes?\n",
    "```\n",
    "\n",
    "I'm just going to make a method that checks if a certain configuration of colors is possible given the information I know about a game (in `dict` form)."
   ]
  },
  {
   "cell_type": "code",
   "execution_count": 67,
   "metadata": {},
   "outputs": [],
   "source": [
    "def determine_if_game_is_possible(cube_configuration, game_record_info_dict):\n",
    "    \"\"\"\n",
    "    This method will determine whether a particular `cube_configuration` (given \n",
    "    in the form `{\"red\": 12, \"green\": 13, \"blue\": 14}`) is possible given what we know \n",
    "    about a game. \"What we know about a game\" is represented within the \n",
    "    `game_record_info_dict`. \n",
    "    \"\"\"\n",
    "        \n",
    "    # Check if any of the colors in the `cube_configuration` are larger \n",
    "    # than the max value associated with that color in the `game_record_info_dict`\n",
    "    for cur_color, cur_ct in cube_configuration.items():\n",
    "        \n",
    "        # Determine the maximum number seen in the game \n",
    "        max_seen_for_color = game_record_info_dict.get(f\"max_{cur_color}\")\n",
    "        \n",
    "        # If the max_seen_for_color is larger than the cur_ct, this game is impossible\n",
    "        if max_seen_for_color > cur_ct:\n",
    "            return False\n",
    "\n",
    "    # If we've made it this far, return True\n",
    "    return True"
   ]
  },
  {
   "cell_type": "markdown",
   "metadata": {},
   "source": [
    "With this method in hand, I'll try and determine which games were possible. "
   ]
  },
  {
   "cell_type": "code",
   "execution_count": 68,
   "metadata": {},
   "outputs": [
    {
     "data": {
      "text/html": [
       "<div>\n",
       "<style scoped>\n",
       "    .dataframe tbody tr th:only-of-type {\n",
       "        vertical-align: middle;\n",
       "    }\n",
       "\n",
       "    .dataframe tbody tr th {\n",
       "        vertical-align: top;\n",
       "    }\n",
       "\n",
       "    .dataframe thead th {\n",
       "        text-align: right;\n",
       "    }\n",
       "</style>\n",
       "<table border=\"1\" class=\"dataframe\">\n",
       "  <thead>\n",
       "    <tr style=\"text-align: right;\">\n",
       "      <th></th>\n",
       "      <th>game_id</th>\n",
       "      <th>original_str</th>\n",
       "      <th>set_strings</th>\n",
       "      <th>set_dicts</th>\n",
       "      <th>minimum_amt_of_cubes</th>\n",
       "      <th>maximum_amt_of_cubes</th>\n",
       "      <th>min_red</th>\n",
       "      <th>min_green</th>\n",
       "      <th>min_blue</th>\n",
       "      <th>max_red</th>\n",
       "      <th>max_green</th>\n",
       "      <th>max_blue</th>\n",
       "      <th>possible_game</th>\n",
       "    </tr>\n",
       "  </thead>\n",
       "  <tbody>\n",
       "    <tr>\n",
       "      <th>0</th>\n",
       "      <td>1</td>\n",
       "      <td>Game 1: 7 green, 4 blue, 3 red; 4 blue, 10 red...</td>\n",
       "      <td>[7 green, 4 blue, 3 red, 4 blue, 10 red, 1 gre...</td>\n",
       "      <td>[{'green': 7, 'blue': 4, 'red': 3}, {'blue': 4...</td>\n",
       "      <td>4</td>\n",
       "      <td>21</td>\n",
       "      <td>3</td>\n",
       "      <td>0</td>\n",
       "      <td>1</td>\n",
       "      <td>10</td>\n",
       "      <td>7</td>\n",
       "      <td>4</td>\n",
       "      <td>True</td>\n",
       "    </tr>\n",
       "  </tbody>\n",
       "</table>\n",
       "</div>"
      ],
      "text/plain": [
       "   game_id                                       original_str  \\\n",
       "0        1  Game 1: 7 green, 4 blue, 3 red; 4 blue, 10 red...   \n",
       "\n",
       "                                         set_strings  \\\n",
       "0  [7 green, 4 blue, 3 red, 4 blue, 10 red, 1 gre...   \n",
       "\n",
       "                                           set_dicts  minimum_amt_of_cubes  \\\n",
       "0  [{'green': 7, 'blue': 4, 'red': 3}, {'blue': 4...                     4   \n",
       "\n",
       "   maximum_amt_of_cubes  min_red  min_green  min_blue  max_red  max_green  \\\n",
       "0                    21        3          0         1       10          7   \n",
       "\n",
       "   max_blue  possible_game  \n",
       "0         4           True  "
      ]
     },
     "execution_count": 68,
     "metadata": {},
     "output_type": "execute_result"
    }
   ],
   "source": [
    "game_records_with_possibilities_df.head(1)"
   ]
  },
  {
   "cell_type": "code",
   "execution_count": 73,
   "metadata": {},
   "outputs": [
    {
     "name": "stdout",
     "output_type": "stream",
     "text": [
      "TARGET CONFIGURATION: {'red': 12, 'green': 13, 'blue': 14}\n",
      "\n",
      "EXAMPLE INVALID GAME: Game 5: 3 blue, 3 red, 8 green; 5 blue, 1 red; 1 green, 19 blue, 3 red; 1 red, 5 green, 3 blue; 4 green, 20 blue, 4 red; 20 blue, 4 green\n",
      "\n"
     ]
    }
   ],
   "source": [
    "# Make a copy of the DataFrame\n",
    "game_records_with_possibilities_df = game_record_info_df.copy()\n",
    "\n",
    "# Indicate the target cube configuration we're aiming to check against\n",
    "target_cube_configuration = {\"red\": 12, \"green\": 13, \"blue\": 14}\n",
    "\n",
    "# Add a column indicating which games are possible\n",
    "game_records_with_possibilities_df[\"possible_game\"] = [\n",
    "    determine_if_game_is_possible(target_cube_configuration, game_record_info_dict)\n",
    "    for game_record_info_dict in game_records_with_possibilities_df.to_dict(\n",
    "        orient=\"records\"\n",
    "    )\n",
    "]\n",
    "\n",
    "# Show off some games that are impossible with the target configuration\n",
    "print(f\"TARGET CONFIGURATION: {target_cube_configuration}\\n\")\n",
    "print(\n",
    "    f'EXAMPLE INVALID GAME: {game_records_with_possibilities_df.query(\"possible_game==False\").head(1).iloc[0].original_str}'\n",
    ")"
   ]
  },
  {
   "cell_type": "markdown",
   "metadata": {},
   "source": [
    "Now: the question is interested in the sum of the IDs for the games that would've been possible for the given configuration. That's easily done: "
   ]
  },
  {
   "cell_type": "code",
   "execution_count": 77,
   "metadata": {},
   "outputs": [
    {
     "name": "stdout",
     "output_type": "stream",
     "text": [
      "The sum of the possible games' IDs is '2447'\n"
     ]
    }
   ],
   "source": [
    "# Get the sum of the possible games' IDs\n",
    "game_id_sum = game_records_with_possibilities_df[game_records_with_possibilities_df[\"possible_game\"]][\"game_id\"].sum()\n",
    "\n",
    "# Print it\n",
    "print(f\"The sum of the possible games' IDs is '{game_id_sum}'\")"
   ]
  },
  {
   "cell_type": "code",
   "execution_count": null,
   "metadata": {},
   "outputs": [],
   "source": []
  }
 ],
 "metadata": {
  "kernelspec": {
   "display_name": ".venv",
   "language": "python",
   "name": "python3"
  },
  "language_info": {
   "codemirror_mode": {
    "name": "ipython",
    "version": 3
   },
   "file_extension": ".py",
   "mimetype": "text/x-python",
   "name": "python",
   "nbconvert_exporter": "python",
   "pygments_lexer": "ipython3",
   "version": "3.11.0"
  }
 },
 "nbformat": 4,
 "nbformat_minor": 2
}
