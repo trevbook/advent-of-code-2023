{
 "cells": [
  {
   "cell_type": "markdown",
   "metadata": {},
   "source": [
    "# **Day 4: Scratchcards**\n",
    "This one seems pretty simple at first glance! Shouldn't be too tough. "
   ]
  },
  {
   "cell_type": "markdown",
   "metadata": {},
   "source": [
    "# Setup\n",
    "The cells below will set up the rest of the notebook. \n",
    "\n",
    "I'll start by configuring my kernel:"
   ]
  },
  {
   "cell_type": "code",
   "execution_count": 1,
   "metadata": {},
   "outputs": [
    {
     "name": "stdout",
     "output_type": "stream",
     "text": [
      "/Users/thubbard/Documents/Personal/Programming/advent-of-code-2023\n"
     ]
    }
   ],
   "source": [
    "# Changing the current working directory\n",
    "%cd ..\n",
    "\n",
    "# Enabling the autoreload extension\n",
    "%load_ext autoreload\n",
    "%autoreload 2"
   ]
  },
  {
   "cell_type": "markdown",
   "metadata": {},
   "source": [
    "Now, I'm going to import some libraries:"
   ]
  },
  {
   "cell_type": "code",
   "execution_count": 47,
   "metadata": {},
   "outputs": [],
   "source": [
    "# Import statements\n",
    "import pandas as pd\n",
    "from copy import deepcopy"
   ]
  },
  {
   "cell_type": "markdown",
   "metadata": {},
   "source": [
    "Finally, I'll load in the data for this puzzle. "
   ]
  },
  {
   "cell_type": "code",
   "execution_count": 4,
   "metadata": {},
   "outputs": [],
   "source": [
    "# Load in the data for the puzzle\n",
    "with open(\"data/input-files/day-04-input.txt\", \"r\") as txt_file:\n",
    "    input_data = txt_file.readlines()"
   ]
  },
  {
   "cell_type": "markdown",
   "metadata": {},
   "source": [
    "# Identifying Winning Numbers\n",
    "Actually identifying the winning numbers in each of these games seems pretty trivial. I have a feeling the numbers themselves are going to come back in Part 2, so I'll keep track of which numbers are actually winning. "
   ]
  },
  {
   "cell_type": "code",
   "execution_count": 29,
   "metadata": {},
   "outputs": [],
   "source": [
    "def parse_input_into_dataframe(input_data):\n",
    "    \"\"\"\n",
    "    This method will parse the puzzle's input_data into a DataFrame that contains various \n",
    "    pieces of info about the game. \n",
    "    \"\"\"\n",
    "    \n",
    "    # Parse the ID, winning numbers, and ticket numbers from each of the lines into a DataFrame\n",
    "    scratchcards_df = pd.DataFrame.from_records(\n",
    "        [\n",
    "            {\n",
    "                \"card_number\": int(line.split(\":\")[0].split(\" \")[-1]),\n",
    "                \"winning_numbers\": [\n",
    "                    int(x.strip())\n",
    "                    for x in line.split(\":\")[-1].strip().split(\"|\")[0].strip().split(\" \")\n",
    "                    if x != \"\"\n",
    "                ],\n",
    "                \"ticket_numbers\": [\n",
    "                    int(x.strip())\n",
    "                    for x in line.split(\":\")[-1].strip().split(\"|\")[-1].strip().split(\" \")\n",
    "                    if x != \"\"\n",
    "                ],\n",
    "            }\n",
    "            for line in input_data\n",
    "        ]\n",
    "    )\n",
    "\n",
    "    # Determine which ticket_numbers are winning_numbers\n",
    "    scratchcards_df[\"winning_ticket_numbers\"] = scratchcards_df.apply(\n",
    "        lambda row: [\n",
    "            ticket_num\n",
    "            for ticket_num in row.ticket_numbers\n",
    "            if ticket_num in row.winning_numbers\n",
    "        ],\n",
    "        axis=1,\n",
    "    )\n",
    "    \n",
    "    # Determine how many winning ticket numbers there are \n",
    "    scratchcards_df[\"n_winning_numbers\"] = scratchcards_df[\"winning_ticket_numbers\"].apply(\n",
    "        lambda x: len(x)\n",
    "    )\n",
    "\n",
    "    # Determine the point value of each of the cards\n",
    "    scratchcards_df[\"point_value\"] = scratchcards_df[\"winning_ticket_numbers\"].apply(\n",
    "        lambda winning_numbers_list: (2 ** (len(winning_numbers_list) - 1))\n",
    "        if len(winning_numbers_list) >= 1\n",
    "        else 0\n",
    "    )\n",
    "    \n",
    "    # Return the DataFrame\n",
    "    return scratchcards_df"
   ]
  },
  {
   "cell_type": "markdown",
   "metadata": {},
   "source": [
    "With this method in hand, we can calculate the sum of the values of the Elf's cards:"
   ]
  },
  {
   "cell_type": "code",
   "execution_count": 30,
   "metadata": {},
   "outputs": [
    {
     "name": "stdout",
     "output_type": "stream",
     "text": [
      "The sum of the values of the scratchcards is '25010'\n"
     ]
    }
   ],
   "source": [
    "# Parse the input_data using the method we'd created\n",
    "scratchcards_df = parse_input_into_dataframe(input_data)\n",
    "\n",
    "# Calculate the sum of the point_values, and then print it\n",
    "point_value_sum = scratchcards_df[\"point_value\"].sum()\n",
    "print(f\"The sum of the values of the scratchcards is '{point_value_sum}'\")"
   ]
  },
  {
   "cell_type": "markdown",
   "metadata": {},
   "source": [
    "# Part 2 - Duplicating Scratchcards\n",
    "This one seems a little bit more challenging - I think that I need to basically iterate through the list of games (like the example shows), and build up a list of the different cards as I continue through it. "
   ]
  },
  {
   "cell_type": "code",
   "execution_count": 49,
   "metadata": {},
   "outputs": [],
   "source": [
    "# We'll declare some variables to keep track of some of the different game winnings as we iterate through\n",
    "cur_card_number = 1\n",
    "card_number_to_cards = {\n",
    "    card_dict.get(\"card_number\"): [card_dict]\n",
    "    for card_dict in scratchcards_df.to_dict(orient=\"records\")\n",
    "}\n",
    "original_cards_by_card_number = {\n",
    "    card_dict.get(\"card_number\"): card_dict\n",
    "    for card_dict in scratchcards_df.to_dict(orient=\"records\")\n",
    "}\n",
    "\n",
    "# Iterate through each of the cards\n",
    "while cur_card_number <= scratchcards_df[\"card_number\"].max():\n",
    "    # Iterate through each of the cards associated with this current number\n",
    "    for card_info in card_number_to_cards.get(cur_card_number, []):\n",
    "        # Determine how many winning numbers there are in this ticket\n",
    "        cur_card_n_winning_numbers = card_info.get(\"n_winning_numbers\", 0)\n",
    "\n",
    "        # Iterate through each of the following cards and add to the card_number_to_cards list\n",
    "        for idx in range(cur_card_n_winning_numbers):\n",
    "            next_card_num = (idx + 1) + cur_card_number\n",
    "            card_number_to_cards[next_card_num].append(original_cards_by_card_number.get(next_card_num))\n",
    "\n",
    "    # Once we're finished processing this card, we're going to iterate the cur_card_number\n",
    "    cur_card_number += 1"
   ]
  },
  {
   "cell_type": "markdown",
   "metadata": {},
   "source": [
    "Now that we've duplicated each of the cards, I'm going to make a quick DataFrame showing off how much of each card we have. "
   ]
  },
  {
   "cell_type": "code",
   "execution_count": 52,
   "metadata": {},
   "outputs": [
    {
     "data": {
      "text/html": [
       "<div>\n",
       "<style scoped>\n",
       "    .dataframe tbody tr th:only-of-type {\n",
       "        vertical-align: middle;\n",
       "    }\n",
       "\n",
       "    .dataframe tbody tr th {\n",
       "        vertical-align: top;\n",
       "    }\n",
       "\n",
       "    .dataframe thead th {\n",
       "        text-align: right;\n",
       "    }\n",
       "</style>\n",
       "<table border=\"1\" class=\"dataframe\">\n",
       "  <thead>\n",
       "    <tr style=\"text-align: right;\">\n",
       "      <th></th>\n",
       "      <th>card_num</th>\n",
       "      <th>n_cards</th>\n",
       "    </tr>\n",
       "  </thead>\n",
       "  <tbody>\n",
       "    <tr>\n",
       "      <th>0</th>\n",
       "      <td>1</td>\n",
       "      <td>1</td>\n",
       "    </tr>\n",
       "    <tr>\n",
       "      <th>1</th>\n",
       "      <td>2</td>\n",
       "      <td>2</td>\n",
       "    </tr>\n",
       "    <tr>\n",
       "      <th>2</th>\n",
       "      <td>3</td>\n",
       "      <td>4</td>\n",
       "    </tr>\n",
       "    <tr>\n",
       "      <th>3</th>\n",
       "      <td>4</td>\n",
       "      <td>8</td>\n",
       "    </tr>\n",
       "    <tr>\n",
       "      <th>4</th>\n",
       "      <td>5</td>\n",
       "      <td>16</td>\n",
       "    </tr>\n",
       "    <tr>\n",
       "      <th>...</th>\n",
       "      <td>...</td>\n",
       "      <td>...</td>\n",
       "    </tr>\n",
       "    <tr>\n",
       "      <th>207</th>\n",
       "      <td>208</td>\n",
       "      <td>29267</td>\n",
       "    </tr>\n",
       "    <tr>\n",
       "      <th>208</th>\n",
       "      <td>209</td>\n",
       "      <td>52938</td>\n",
       "    </tr>\n",
       "    <tr>\n",
       "      <th>209</th>\n",
       "      <td>210</td>\n",
       "      <td>52938</td>\n",
       "    </tr>\n",
       "    <tr>\n",
       "      <th>210</th>\n",
       "      <td>211</td>\n",
       "      <td>73745</td>\n",
       "    </tr>\n",
       "    <tr>\n",
       "      <th>211</th>\n",
       "      <td>212</td>\n",
       "      <td>20807</td>\n",
       "    </tr>\n",
       "  </tbody>\n",
       "</table>\n",
       "<p>212 rows × 2 columns</p>\n",
       "</div>"
      ],
      "text/plain": [
       "     card_num  n_cards\n",
       "0           1        1\n",
       "1           2        2\n",
       "2           3        4\n",
       "3           4        8\n",
       "4           5       16\n",
       "..        ...      ...\n",
       "207       208    29267\n",
       "208       209    52938\n",
       "209       210    52938\n",
       "210       211    73745\n",
       "211       212    20807\n",
       "\n",
       "[212 rows x 2 columns]"
      ]
     },
     "execution_count": 52,
     "metadata": {},
     "output_type": "execute_result"
    }
   ],
   "source": [
    "# Create a DataFrame showing off the cards we have \n",
    "duplicated_card_ct_df = pd.DataFrame.from_records(\n",
    "    [\n",
    "        {\"card_num\": card_num, \"n_cards\": len(list_of_cards)}\n",
    "        for card_num, list_of_cards in card_number_to_cards.items()\n",
    "    ]\n",
    ")\n",
    "\n",
    "# Show off this DataFrame\n",
    "duplicated_card_ct_df"
   ]
  },
  {
   "cell_type": "markdown",
   "metadata": {},
   "source": [
    "Finally: how many cards did we end up with? "
   ]
  },
  {
   "cell_type": "code",
   "execution_count": 53,
   "metadata": {},
   "outputs": [
    {
     "name": "stdout",
     "output_type": "stream",
     "text": [
      "After duplicating all of the cards, we end up with '9924412' cards.\n"
     ]
    }
   ],
   "source": [
    "# Print the total amount of cards we've ended up with\n",
    "n_total_cards = duplicated_card_ct_df[\"n_cards\"].sum()\n",
    "print(f\"After duplicating all of the cards, we end up with '{n_total_cards}' cards.\")"
   ]
  }
 ],
 "metadata": {
  "kernelspec": {
   "display_name": ".venv",
   "language": "python",
   "name": "python3"
  },
  "language_info": {
   "codemirror_mode": {
    "name": "ipython",
    "version": 3
   },
   "file_extension": ".py",
   "mimetype": "text/x-python",
   "name": "python",
   "nbconvert_exporter": "python",
   "pygments_lexer": "ipython3",
   "version": "3.11.0"
  }
 },
 "nbformat": 4,
 "nbformat_minor": 2
}
