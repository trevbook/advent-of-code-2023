{
 "cells": [
  {
   "cell_type": "markdown",
   "metadata": {},
   "source": [
    "# **Day 4: Scratchcards**\n",
    "This one seems pretty simple at first glance! Shouldn't be too tough. "
   ]
  },
  {
   "cell_type": "markdown",
   "metadata": {},
   "source": [
    "# Setup\n",
    "The cells below will set up the rest of the notebook. \n",
    "\n",
    "I'll start by configuring my kernel:"
   ]
  },
  {
   "cell_type": "code",
   "execution_count": 1,
   "metadata": {},
   "outputs": [
    {
     "name": "stdout",
     "output_type": "stream",
     "text": [
      "/Users/thubbard/Documents/Personal/Programming/advent-of-code-2023\n"
     ]
    }
   ],
   "source": [
    "# Changing the current working directory\n",
    "%cd ..\n",
    "\n",
    "# Enabling the autoreload extension\n",
    "%load_ext autoreload\n",
    "%autoreload 2"
   ]
  },
  {
   "cell_type": "markdown",
   "metadata": {},
   "source": [
    "Now, I'm going to import some libraries:"
   ]
  },
  {
   "cell_type": "code",
   "execution_count": 2,
   "metadata": {},
   "outputs": [],
   "source": [
    "# Import statements\n",
    "import pandas as pd\n",
    "import re"
   ]
  },
  {
   "cell_type": "markdown",
   "metadata": {},
   "source": [
    "Finally, I'll load in the data for this puzzle. "
   ]
  },
  {
   "cell_type": "code",
   "execution_count": 4,
   "metadata": {},
   "outputs": [],
   "source": [
    "# Load in the data for the puzzle\n",
    "with open(\"data/input-files/day-04-input.txt\", \"r\") as txt_file:\n",
    "    input_data = txt_file.readlines()"
   ]
  },
  {
   "cell_type": "markdown",
   "metadata": {},
   "source": [
    "# Identifying Winning Numbers\n",
    "Actually identifying the winning numbers in each of these games seems pretty trivial. I have a feeling the numbers themselves are going to come back in Part 2, so I'll keep track of which numbers are actually winning. "
   ]
  },
  {
   "cell_type": "code",
   "execution_count": 20,
   "metadata": {},
   "outputs": [],
   "source": [
    "def parse_input_into_dataframe(input_data):\n",
    "    \"\"\"\n",
    "    This method will parse the puzzle's input_data into a DataFrame that contains various \n",
    "    pieces of info about the game. \n",
    "    \"\"\"\n",
    "    \n",
    "    # Parse the ID, winning numbers, and ticket numbers from each of the lines into a DataFrame\n",
    "    scratchcards_df = pd.DataFrame.from_records(\n",
    "        [\n",
    "            {\n",
    "                \"card_number\": int(line.split(\":\")[0].split(\" \")[-1]),\n",
    "                \"winning_numbers\": [\n",
    "                    int(x.strip())\n",
    "                    for x in line.split(\":\")[-1].strip().split(\"|\")[0].strip().split(\" \")\n",
    "                    if x != \"\"\n",
    "                ],\n",
    "                \"ticket_numbers\": [\n",
    "                    int(x.strip())\n",
    "                    for x in line.split(\":\")[-1].strip().split(\"|\")[-1].strip().split(\" \")\n",
    "                    if x != \"\"\n",
    "                ],\n",
    "            }\n",
    "            for line in input_data\n",
    "        ]\n",
    "    )\n",
    "\n",
    "    # Determine which ticket_numbers are winning_numbers\n",
    "    scratchcards_df[\"winning_ticket_numbers\"] = scratchcards_df.apply(\n",
    "        lambda row: [\n",
    "            ticket_num\n",
    "            for ticket_num in row.ticket_numbers\n",
    "            if ticket_num in row.winning_numbers\n",
    "        ],\n",
    "        axis=1,\n",
    "    )\n",
    "\n",
    "    # Determine the point value of each of the cards\n",
    "    scratchcards_df[\"point_value\"] = scratchcards_df[\"winning_ticket_numbers\"].apply(\n",
    "        lambda winning_numbers_list: (2 ** (len(winning_numbers_list) - 1))\n",
    "        if len(winning_numbers_list) >= 1\n",
    "        else 0\n",
    "    )\n",
    "    \n",
    "    # Return the DataFrame\n",
    "    return scratchcards_df"
   ]
  },
  {
   "cell_type": "markdown",
   "metadata": {},
   "source": [
    "With this method in hand, we can calculate the sum of the values of the Elf's cards:"
   ]
  },
  {
   "cell_type": "code",
   "execution_count": 24,
   "metadata": {},
   "outputs": [
    {
     "name": "stdout",
     "output_type": "stream",
     "text": [
      "The sum of the values of the scratchcards is '25010'\n"
     ]
    }
   ],
   "source": [
    "# Parse the input_data using the method we'd created\n",
    "scratchcards_df = parse_input_into_dataframe(input_data)\n",
    "\n",
    "# Calculate the sum of the point_values, and then print it\n",
    "point_value_sum = scratchcards_df[\"point_value\"].sum()\n",
    "print(f\"The sum of the values of the scratchcards is '{point_value_sum}'\")"
   ]
  }
 ],
 "metadata": {
  "kernelspec": {
   "display_name": ".venv",
   "language": "python",
   "name": "python3"
  },
  "language_info": {
   "codemirror_mode": {
    "name": "ipython",
    "version": 3
   },
   "file_extension": ".py",
   "mimetype": "text/x-python",
   "name": "python",
   "nbconvert_exporter": "python",
   "pygments_lexer": "ipython3",
   "version": "3.11.0"
  }
 },
 "nbformat": 4,
 "nbformat_minor": 2
}
