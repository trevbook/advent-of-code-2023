{
 "cells": [
  {
   "cell_type": "markdown",
   "metadata": {},
   "source": [
    "# **Day 3: Gear Ratios**"
   ]
  },
  {
   "cell_type": "markdown",
   "metadata": {},
   "source": [
    "# Setup\n",
    "The cells below will set up the rest of the notebook. \n",
    "\n",
    "I'll start by configuring my kernel:"
   ]
  },
  {
   "cell_type": "code",
   "execution_count": 1,
   "metadata": {},
   "outputs": [
    {
     "name": "stdout",
     "output_type": "stream",
     "text": [
      "d:\\data\\programming\\advent-of-code-2023\n"
     ]
    }
   ],
   "source": [
    "# Changing the current working directory\n",
    "%cd ..\n",
    "\n",
    "# Enabling the autoreload extension\n",
    "%load_ext autoreload\n",
    "%autoreload 2"
   ]
  },
  {
   "cell_type": "markdown",
   "metadata": {},
   "source": [
    "Now, I'm going to import some libraries:"
   ]
  },
  {
   "cell_type": "code",
   "execution_count": 2,
   "metadata": {},
   "outputs": [],
   "source": [
    "# Import statements\n",
    "import pandas as pd\n",
    "import re"
   ]
  },
  {
   "cell_type": "markdown",
   "metadata": {},
   "source": [
    "Finally, I'll load in the data for this puzzle. "
   ]
  },
  {
   "cell_type": "code",
   "execution_count": 11,
   "metadata": {},
   "outputs": [],
   "source": [
    "# Load in the data for the puzzle\n",
    "with open(\"data/input-files/day-03-input.txt\", \"r\") as txt_file:\n",
    "    input_data = [x.strip() for x in txt_file.readlines()]"
   ]
  },
  {
   "cell_type": "markdown",
   "metadata": {},
   "source": [
    "# Finding Part Numbers\n",
    "It shouldn't be too hard to actually locate the \"part numbers\" in the `input_data`. According to the instructions, a **part number** is: \n",
    "\n",
    "```\n",
    "...any number adjacent to a symbol, even diagonally, is a \"part number\" and should be included in your sum. (Periods (.) do not count as a symbol.)\n",
    "```\n",
    "\n",
    "So, I can just parse the input into a coordinate grid of sorts, and then check to see which values are adjacent to symbols."
   ]
  },
  {
   "cell_type": "code",
   "execution_count": 35,
   "metadata": {},
   "outputs": [],
   "source": [
    "def parse_input_into_coordinate_grid(engine_schematic_lines):\n",
    "    \"\"\"\n",
    "    This method will parse some `engine_schematic_lines` (i.e., the puzzle's input data, where\n",
    "    each line of the string is a member of an array) into a coordinate grid. The method will \n",
    "    return two different things: \n",
    "    \n",
    "    - `coordinate_grid` - a 2D array representing the engine schematic as a coordinate grid\n",
    "    - `number_coordinate_spans` - a list of the coordinate spans that represent numbers\n",
    "    \"\"\"\n",
    "    \n",
    "    # Parse the engine_schematic_lines into a coordinate grid\n",
    "    coordinate_grid = [[char for char in line] for line in engine_schematic_lines]\n",
    "\n",
    "    # Compile a regex pattern that can be used for finding numbers \n",
    "    regex_pattern = re.compile('[0-9]+')\n",
    "\n",
    "    # Iterate through each line from the engine_schematic_lines and determine the \n",
    "    # coordinate spans for the different numbers\n",
    "    number_coordinate_spans = []\n",
    "    for row_idx, line in enumerate(engine_schematic_lines):\n",
    "        \n",
    "        # Determine all of the coordinate spans within this line that contain numbers\n",
    "        for match in regex_pattern.finditer(line):\n",
    "            \n",
    "            # Parse the span from the match\n",
    "            match_span = match.span()\n",
    "            \n",
    "            # Store some information about this number's coordinate span \n",
    "            number_coordinate_spans.append(\n",
    "                {\n",
    "                    \"number\": int(match.group()),\n",
    "                    \"coordinate_span\": [(row_idx, col_idx) for col_idx in range(match_span[0], match_span[1])]\n",
    "                }\n",
    "            )\n",
    "    \n",
    "    # Return the coordinate grid and the coordinate spans \n",
    "    return coordinate_grid, number_coordinate_spans"
   ]
  },
  {
   "cell_type": "markdown",
   "metadata": {},
   "source": [
    "With this method in hand, we can parse the input into a grid: "
   ]
  },
  {
   "cell_type": "code",
   "execution_count": 37,
   "metadata": {},
   "outputs": [
    {
     "data": {
      "text/html": [
       "<div>\n",
       "<style scoped>\n",
       "    .dataframe tbody tr th:only-of-type {\n",
       "        vertical-align: middle;\n",
       "    }\n",
       "\n",
       "    .dataframe tbody tr th {\n",
       "        vertical-align: top;\n",
       "    }\n",
       "\n",
       "    .dataframe thead th {\n",
       "        text-align: right;\n",
       "    }\n",
       "</style>\n",
       "<table border=\"1\" class=\"dataframe\">\n",
       "  <thead>\n",
       "    <tr style=\"text-align: right;\">\n",
       "      <th></th>\n",
       "      <th>number</th>\n",
       "      <th>coordinate_span</th>\n",
       "    </tr>\n",
       "  </thead>\n",
       "  <tbody>\n",
       "    <tr>\n",
       "      <th>0</th>\n",
       "      <td>380</td>\n",
       "      <td>[(0, 26), (0, 27), (0, 28)]</td>\n",
       "    </tr>\n",
       "    <tr>\n",
       "      <th>1</th>\n",
       "      <td>143</td>\n",
       "      <td>[(0, 52), (0, 53), (0, 54)]</td>\n",
       "    </tr>\n",
       "    <tr>\n",
       "      <th>2</th>\n",
       "      <td>108</td>\n",
       "      <td>[(0, 83), (0, 84), (0, 85)]</td>\n",
       "    </tr>\n",
       "  </tbody>\n",
       "</table>\n",
       "</div>"
      ],
      "text/plain": [
       "   number              coordinate_span\n",
       "0     380  [(0, 26), (0, 27), (0, 28)]\n",
       "1     143  [(0, 52), (0, 53), (0, 54)]\n",
       "2     108  [(0, 83), (0, 84), (0, 85)]"
      ]
     },
     "execution_count": 37,
     "metadata": {},
     "output_type": "execute_result"
    }
   ],
   "source": [
    "# Parse the engine_schematic_lines into a coordinate grid\n",
    "coordinate_grid, number_coordinate_spans = parse_input_into_coordinate_grid(input_data)\n",
    "\n",
    "# Turn the number coordinate spans into a DataFrame\n",
    "number_coordinate_spans_df = pd.DataFrame.from_records(number_coordinate_spans)\n",
    "\n",
    "# Show off the first couple of rows of the number_coordinate_spans_df\n",
    "number_coordinate_spans_df.head(3)"
   ]
  },
  {
   "cell_type": "markdown",
   "metadata": {},
   "source": [
    "Now: we need to iterate through each of the number coordinate spans and determine whether or not they're actually **part numbers**. I'll define a method below that'll check whether or not any of the indices in each of the coordinate spans are next to a symbol:"
   ]
  },
  {
   "cell_type": "code",
   "execution_count": 69,
   "metadata": {},
   "outputs": [],
   "source": [
    "def determine_if_number_is_part_number(coordinate_grid, coordinate_span):\n",
    "    \"\"\"\n",
    "    This method will determine whether or not the number found at a particular `coordinate_span`\n",
    "    is adjacent to any symbol in the `coordinate_grid`.\n",
    "    \"\"\"\n",
    "\n",
    "    # Determine how many rows are in this coordinate grid\n",
    "    n_rows = len(coordinate_grid)\n",
    "\n",
    "    # Indicate all of the transformations that can be made to check the adjacent tiles\n",
    "    adjacent_tile_transformations = [\n",
    "        [0, 1],\n",
    "        [1, 1],\n",
    "        [1, 0],\n",
    "        [1, -1],\n",
    "        [0, -1],\n",
    "        [-1, -1],\n",
    "        [-1, 0],\n",
    "        [-1, 1],\n",
    "    ]\n",
    "\n",
    "    # Iterate through erach of the coordinates in the coordinate span\n",
    "    for cur_coordinate in coordinate_span:\n",
    "        # Iterate through each of the adjacent tile transformations and check if the coordinate\n",
    "        # has a symbol at it\n",
    "        for transformation in adjacent_tile_transformations:\n",
    "            # Determine how many columns are in the current line\n",
    "            n_cols_in_cur_row = len(coordinate_grid[cur_coordinate[0]])\n",
    "\n",
    "            # Determine what coordinate we ought to be checking for a symbol\n",
    "            coordinate_to_check = [\n",
    "                cur_coordinate[0] + transformation[0],\n",
    "                cur_coordinate[1] + transformation[1],\n",
    "            ]\n",
    "\n",
    "            # If the coordinate_to_check is outside of the boundaries of the coordinate grid, we'll skip it\n",
    "            if (\n",
    "                coordinate_to_check[0] < 0\n",
    "                or coordinate_to_check[1] < 0\n",
    "                or coordinate_to_check[0] >= n_cols_in_cur_row\n",
    "                or coordinate_to_check[1] >= n_rows\n",
    "            ):\n",
    "                continue\n",
    "\n",
    "            # Otherwise, we'll check if the coordinate is a symbol\n",
    "            char_at_coordinate_to_check = coordinate_grid[coordinate_to_check[0]][\n",
    "                coordinate_to_check[1]\n",
    "            ]\n",
    "\n",
    "            if (\n",
    "                not char_at_coordinate_to_check.isalnum()\n",
    "                and char_at_coordinate_to_check != \".\"\n",
    "            ):\n",
    "                return True\n",
    "\n",
    "    # If we've made it to the end of this method without returning True, then the coordinate span\n",
    "    # is NOT a part number (and we should return False)\n",
    "    return False"
   ]
  },
  {
   "cell_type": "markdown",
   "metadata": {},
   "source": [
    "With this method in hand, we'll add a column to the `number_coordinate_spans_df` indicating whether or not each number is a part number:"
   ]
  },
  {
   "cell_type": "code",
   "execution_count": 70,
   "metadata": {},
   "outputs": [
    {
     "data": {
      "text/plain": [
       "is_part_number\n",
       "True     1047\n",
       "False     146\n",
       "Name: count, dtype: int64"
      ]
     },
     "execution_count": 70,
     "metadata": {},
     "output_type": "execute_result"
    }
   ],
   "source": [
    "# Add a column indicating whether a number is a part number or not\n",
    "number_coordinate_spans_df[\"is_part_number\"] = number_coordinate_spans_df.apply(\n",
    "    lambda row: determine_if_number_is_part_number(\n",
    "        coordinate_grid, row.coordinate_span\n",
    "    ),\n",
    "    axis=1,\n",
    ")\n",
    "\n",
    "# Show off the value counts\n",
    "number_coordinate_spans_df[\"is_part_number\"].value_counts()"
   ]
  },
  {
   "cell_type": "markdown",
   "metadata": {},
   "source": [
    "Now that I've got this column, I can determine the sum of the part numbers!"
   ]
  },
  {
   "cell_type": "code",
   "execution_count": 73,
   "metadata": {},
   "outputs": [
    {
     "name": "stdout",
     "output_type": "stream",
     "text": [
      "The sum of the part numbers I've identified is '526404'\n"
     ]
    }
   ],
   "source": [
    "# Determine the \n",
    "part_number_sum = number_coordinate_spans_df[number_coordinate_spans_df[\"is_part_number\"]][\"number\"].sum()\n",
    "\n",
    "# Print this information\n",
    "print(f\"The sum of the part numbers I've identified is '{part_number_sum}'\")"
   ]
  },
  {
   "cell_type": "markdown",
   "metadata": {},
   "source": [
    "# Part 2: ___"
   ]
  },
  {
   "cell_type": "code",
   "execution_count": null,
   "metadata": {},
   "outputs": [],
   "source": []
  }
 ],
 "metadata": {
  "kernelspec": {
   "display_name": ".venv",
   "language": "python",
   "name": "python3"
  },
  "language_info": {
   "codemirror_mode": {
    "name": "ipython",
    "version": 3
   },
   "file_extension": ".py",
   "mimetype": "text/x-python",
   "name": "python",
   "nbconvert_exporter": "python",
   "pygments_lexer": "ipython3",
   "version": "3.11.0"
  }
 },
 "nbformat": 4,
 "nbformat_minor": 2
}
