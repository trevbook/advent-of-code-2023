{
 "cells": [
  {
   "cell_type": "markdown",
   "metadata": {},
   "source": [
    "# **Day 9: Mirage Maintenance**"
   ]
  },
  {
   "cell_type": "markdown",
   "metadata": {},
   "source": [
    "# Setup\n",
    "The cells below will set up the rest of the notebook. \n",
    "\n",
    "I'll start by configuring my kernel:"
   ]
  },
  {
   "cell_type": "code",
   "execution_count": 1,
   "metadata": {},
   "outputs": [
    {
     "name": "stdout",
     "output_type": "stream",
     "text": [
      "d:\\data\\programming\\advent-of-code-2023\n"
     ]
    }
   ],
   "source": [
    "# Changing the current working directory\n",
    "%cd ..\n",
    "\n",
    "# Enabling the autoreload extension\n",
    "%load_ext autoreload\n",
    "%autoreload 2"
   ]
  },
  {
   "cell_type": "markdown",
   "metadata": {},
   "source": [
    "Now, I'm going to import some libraries:"
   ]
  },
  {
   "cell_type": "code",
   "execution_count": 2,
   "metadata": {},
   "outputs": [],
   "source": [
    "# Import statements\n",
    "import pandas as pd\n",
    "import re\n",
    "from tqdm import tqdm"
   ]
  },
  {
   "cell_type": "markdown",
   "metadata": {},
   "source": [
    "Finally, I'll load in the data for this puzzle. "
   ]
  },
  {
   "cell_type": "code",
   "execution_count": 3,
   "metadata": {},
   "outputs": [],
   "source": [
    "# Load in the data for the puzzle\n",
    "day = 9\n",
    "input_data_path = f\"data/input-files/day-{day:02d}-input.txt\"\n",
    "example_data_path = f\"data/example-input/day-{day:02d}-example.txt\"\n",
    "with open(input_data_path, \"r\") as txt_file:\n",
    "    input_data = txt_file.readlines()\n",
    "input_data = [[int(num) for num in line.strip().split(\" \")] for line in input_data]"
   ]
  },
  {
   "cell_type": "markdown",
   "metadata": {},
   "source": [
    "# Calculating Missing Sequence Numbers\n",
    "I think that a recursive method could be used to calculate the differences. "
   ]
  },
  {
   "cell_type": "code",
   "execution_count": 6,
   "metadata": {},
   "outputs": [],
   "source": [
    "def identify_difference_rows(initial_sequence):\n",
    "    \"\"\"\n",
    "    This helper method will identify the \"difference rows\" for each of the sequences.\n",
    "    \"\"\"\n",
    "\n",
    "    # First, check if the initial_sequence isn't all 0's\n",
    "    if all([x == 0 for x in initial_sequence]):\n",
    "        return None\n",
    "\n",
    "    # Otherwise, we're going to create a list of the differences\n",
    "    else:\n",
    "        diff_list = [\n",
    "            val - initial_sequence[idx - 1]\n",
    "            for idx, val in enumerate(initial_sequence)\n",
    "            if idx > 0\n",
    "        ]\n",
    "        remaining_diffs = identify_difference_rows(diff_list)\n",
    "        my_list = [diff_list]\n",
    "        if remaining_diffs is not None:\n",
    "            my_list = [diff_list] + remaining_diffs\n",
    "        return my_list"
   ]
  },
  {
   "cell_type": "markdown",
   "metadata": {},
   "source": [
    "Now, with this method in hand, we can calculate the rows for each of the different histories:"
   ]
  },
  {
   "cell_type": "code",
   "execution_count": 5,
   "metadata": {},
   "outputs": [
    {
     "ename": "RecursionError",
     "evalue": "maximum recursion depth exceeded in comparison",
     "output_type": "error",
     "traceback": [
      "\u001b[1;31m---------------------------------------------------------------------------\u001b[0m",
      "\u001b[1;31mRecursionError\u001b[0m                            Traceback (most recent call last)",
      "\u001b[1;32md:\\data\\programming\\advent-of-code-2023\\notebooks\\09. Mirage Maintenance.ipynb Cell 11\u001b[0m line \u001b[0;36m6\n\u001b[0;32m      <a href='vscode-notebook-cell:/d%3A/data/programming/advent-of-code-2023/notebooks/09.%20Mirage%20Maintenance.ipynb#X11sZmlsZQ%3D%3D?line=3'>4</a>\u001b[0m     history_diff_sequences[idx] \u001b[39m=\u001b[39m [initial_sequence]\n\u001b[0;32m      <a href='vscode-notebook-cell:/d%3A/data/programming/advent-of-code-2023/notebooks/09.%20Mirage%20Maintenance.ipynb#X11sZmlsZQ%3D%3D?line=4'>5</a>\u001b[0m \u001b[39melse\u001b[39;00m:\n\u001b[1;32m----> <a href='vscode-notebook-cell:/d%3A/data/programming/advent-of-code-2023/notebooks/09.%20Mirage%20Maintenance.ipynb#X11sZmlsZQ%3D%3D?line=5'>6</a>\u001b[0m     history_diff_sequences[idx] \u001b[39m=\u001b[39m [initial_sequence] \u001b[39m+\u001b[39m identify_difference_rows(initial_sequence)\n",
      "\u001b[1;32md:\\data\\programming\\advent-of-code-2023\\notebooks\\09. Mirage Maintenance.ipynb Cell 11\u001b[0m line \u001b[0;36m1\n\u001b[0;32m     <a href='vscode-notebook-cell:/d%3A/data/programming/advent-of-code-2023/notebooks/09.%20Mirage%20Maintenance.ipynb#X11sZmlsZQ%3D%3D?line=9'>10</a>\u001b[0m \u001b[39m# Otherwise, we're going to create a list of the differences\u001b[39;00m\n\u001b[0;32m     <a href='vscode-notebook-cell:/d%3A/data/programming/advent-of-code-2023/notebooks/09.%20Mirage%20Maintenance.ipynb#X11sZmlsZQ%3D%3D?line=10'>11</a>\u001b[0m \u001b[39melse\u001b[39;00m:\n\u001b[0;32m     <a href='vscode-notebook-cell:/d%3A/data/programming/advent-of-code-2023/notebooks/09.%20Mirage%20Maintenance.ipynb#X11sZmlsZQ%3D%3D?line=11'>12</a>\u001b[0m     diff_list \u001b[39m=\u001b[39m [\n\u001b[0;32m     <a href='vscode-notebook-cell:/d%3A/data/programming/advent-of-code-2023/notebooks/09.%20Mirage%20Maintenance.ipynb#X11sZmlsZQ%3D%3D?line=12'>13</a>\u001b[0m         val \u001b[39m-\u001b[39m initial_sequence[idx \u001b[39m-\u001b[39m \u001b[39m1\u001b[39m]\n\u001b[0;32m     <a href='vscode-notebook-cell:/d%3A/data/programming/advent-of-code-2023/notebooks/09.%20Mirage%20Maintenance.ipynb#X11sZmlsZQ%3D%3D?line=13'>14</a>\u001b[0m         \u001b[39mfor\u001b[39;00m idx, val \u001b[39min\u001b[39;00m \u001b[39menumerate\u001b[39m(initial_sequence)\n\u001b[0;32m     <a href='vscode-notebook-cell:/d%3A/data/programming/advent-of-code-2023/notebooks/09.%20Mirage%20Maintenance.ipynb#X11sZmlsZQ%3D%3D?line=14'>15</a>\u001b[0m         \u001b[39mif\u001b[39;00m idx \u001b[39m>\u001b[39m \u001b[39m0\u001b[39m\n\u001b[0;32m     <a href='vscode-notebook-cell:/d%3A/data/programming/advent-of-code-2023/notebooks/09.%20Mirage%20Maintenance.ipynb#X11sZmlsZQ%3D%3D?line=15'>16</a>\u001b[0m     ]\n\u001b[1;32m---> <a href='vscode-notebook-cell:/d%3A/data/programming/advent-of-code-2023/notebooks/09.%20Mirage%20Maintenance.ipynb#X11sZmlsZQ%3D%3D?line=16'>17</a>\u001b[0m     remaining_diffs \u001b[39m=\u001b[39m identify_difference_rows(diff_list)\n\u001b[0;32m     <a href='vscode-notebook-cell:/d%3A/data/programming/advent-of-code-2023/notebooks/09.%20Mirage%20Maintenance.ipynb#X11sZmlsZQ%3D%3D?line=17'>18</a>\u001b[0m     my_list \u001b[39m=\u001b[39m [diff_list]\n\u001b[0;32m     <a href='vscode-notebook-cell:/d%3A/data/programming/advent-of-code-2023/notebooks/09.%20Mirage%20Maintenance.ipynb#X11sZmlsZQ%3D%3D?line=18'>19</a>\u001b[0m     \u001b[39mif\u001b[39;00m remaining_diffs \u001b[39mis\u001b[39;00m \u001b[39mnot\u001b[39;00m \u001b[39mNone\u001b[39;00m:\n",
      "\u001b[1;32md:\\data\\programming\\advent-of-code-2023\\notebooks\\09. Mirage Maintenance.ipynb Cell 11\u001b[0m line \u001b[0;36m1\n\u001b[0;32m     <a href='vscode-notebook-cell:/d%3A/data/programming/advent-of-code-2023/notebooks/09.%20Mirage%20Maintenance.ipynb#X11sZmlsZQ%3D%3D?line=9'>10</a>\u001b[0m \u001b[39m# Otherwise, we're going to create a list of the differences\u001b[39;00m\n\u001b[0;32m     <a href='vscode-notebook-cell:/d%3A/data/programming/advent-of-code-2023/notebooks/09.%20Mirage%20Maintenance.ipynb#X11sZmlsZQ%3D%3D?line=10'>11</a>\u001b[0m \u001b[39melse\u001b[39;00m:\n\u001b[0;32m     <a href='vscode-notebook-cell:/d%3A/data/programming/advent-of-code-2023/notebooks/09.%20Mirage%20Maintenance.ipynb#X11sZmlsZQ%3D%3D?line=11'>12</a>\u001b[0m     diff_list \u001b[39m=\u001b[39m [\n\u001b[0;32m     <a href='vscode-notebook-cell:/d%3A/data/programming/advent-of-code-2023/notebooks/09.%20Mirage%20Maintenance.ipynb#X11sZmlsZQ%3D%3D?line=12'>13</a>\u001b[0m         val \u001b[39m-\u001b[39m initial_sequence[idx \u001b[39m-\u001b[39m \u001b[39m1\u001b[39m]\n\u001b[0;32m     <a href='vscode-notebook-cell:/d%3A/data/programming/advent-of-code-2023/notebooks/09.%20Mirage%20Maintenance.ipynb#X11sZmlsZQ%3D%3D?line=13'>14</a>\u001b[0m         \u001b[39mfor\u001b[39;00m idx, val \u001b[39min\u001b[39;00m \u001b[39menumerate\u001b[39m(initial_sequence)\n\u001b[0;32m     <a href='vscode-notebook-cell:/d%3A/data/programming/advent-of-code-2023/notebooks/09.%20Mirage%20Maintenance.ipynb#X11sZmlsZQ%3D%3D?line=14'>15</a>\u001b[0m         \u001b[39mif\u001b[39;00m idx \u001b[39m>\u001b[39m \u001b[39m0\u001b[39m\n\u001b[0;32m     <a href='vscode-notebook-cell:/d%3A/data/programming/advent-of-code-2023/notebooks/09.%20Mirage%20Maintenance.ipynb#X11sZmlsZQ%3D%3D?line=15'>16</a>\u001b[0m     ]\n\u001b[1;32m---> <a href='vscode-notebook-cell:/d%3A/data/programming/advent-of-code-2023/notebooks/09.%20Mirage%20Maintenance.ipynb#X11sZmlsZQ%3D%3D?line=16'>17</a>\u001b[0m     remaining_diffs \u001b[39m=\u001b[39m identify_difference_rows(diff_list)\n\u001b[0;32m     <a href='vscode-notebook-cell:/d%3A/data/programming/advent-of-code-2023/notebooks/09.%20Mirage%20Maintenance.ipynb#X11sZmlsZQ%3D%3D?line=17'>18</a>\u001b[0m     my_list \u001b[39m=\u001b[39m [diff_list]\n\u001b[0;32m     <a href='vscode-notebook-cell:/d%3A/data/programming/advent-of-code-2023/notebooks/09.%20Mirage%20Maintenance.ipynb#X11sZmlsZQ%3D%3D?line=18'>19</a>\u001b[0m     \u001b[39mif\u001b[39;00m remaining_diffs \u001b[39mis\u001b[39;00m \u001b[39mnot\u001b[39;00m \u001b[39mNone\u001b[39;00m:\n",
      "    \u001b[1;31m[... skipping similar frames: identify_difference_rows at line 17 (2969 times)]\u001b[0m\n",
      "\u001b[1;32md:\\data\\programming\\advent-of-code-2023\\notebooks\\09. Mirage Maintenance.ipynb Cell 11\u001b[0m line \u001b[0;36m1\n\u001b[0;32m     <a href='vscode-notebook-cell:/d%3A/data/programming/advent-of-code-2023/notebooks/09.%20Mirage%20Maintenance.ipynb#X11sZmlsZQ%3D%3D?line=9'>10</a>\u001b[0m \u001b[39m# Otherwise, we're going to create a list of the differences\u001b[39;00m\n\u001b[0;32m     <a href='vscode-notebook-cell:/d%3A/data/programming/advent-of-code-2023/notebooks/09.%20Mirage%20Maintenance.ipynb#X11sZmlsZQ%3D%3D?line=10'>11</a>\u001b[0m \u001b[39melse\u001b[39;00m:\n\u001b[0;32m     <a href='vscode-notebook-cell:/d%3A/data/programming/advent-of-code-2023/notebooks/09.%20Mirage%20Maintenance.ipynb#X11sZmlsZQ%3D%3D?line=11'>12</a>\u001b[0m     diff_list \u001b[39m=\u001b[39m [\n\u001b[0;32m     <a href='vscode-notebook-cell:/d%3A/data/programming/advent-of-code-2023/notebooks/09.%20Mirage%20Maintenance.ipynb#X11sZmlsZQ%3D%3D?line=12'>13</a>\u001b[0m         val \u001b[39m-\u001b[39m initial_sequence[idx \u001b[39m-\u001b[39m \u001b[39m1\u001b[39m]\n\u001b[0;32m     <a href='vscode-notebook-cell:/d%3A/data/programming/advent-of-code-2023/notebooks/09.%20Mirage%20Maintenance.ipynb#X11sZmlsZQ%3D%3D?line=13'>14</a>\u001b[0m         \u001b[39mfor\u001b[39;00m idx, val \u001b[39min\u001b[39;00m \u001b[39menumerate\u001b[39m(initial_sequence)\n\u001b[0;32m     <a href='vscode-notebook-cell:/d%3A/data/programming/advent-of-code-2023/notebooks/09.%20Mirage%20Maintenance.ipynb#X11sZmlsZQ%3D%3D?line=14'>15</a>\u001b[0m         \u001b[39mif\u001b[39;00m idx \u001b[39m>\u001b[39m \u001b[39m0\u001b[39m\n\u001b[0;32m     <a href='vscode-notebook-cell:/d%3A/data/programming/advent-of-code-2023/notebooks/09.%20Mirage%20Maintenance.ipynb#X11sZmlsZQ%3D%3D?line=15'>16</a>\u001b[0m     ]\n\u001b[1;32m---> <a href='vscode-notebook-cell:/d%3A/data/programming/advent-of-code-2023/notebooks/09.%20Mirage%20Maintenance.ipynb#X11sZmlsZQ%3D%3D?line=16'>17</a>\u001b[0m     remaining_diffs \u001b[39m=\u001b[39m identify_difference_rows(diff_list)\n\u001b[0;32m     <a href='vscode-notebook-cell:/d%3A/data/programming/advent-of-code-2023/notebooks/09.%20Mirage%20Maintenance.ipynb#X11sZmlsZQ%3D%3D?line=17'>18</a>\u001b[0m     my_list \u001b[39m=\u001b[39m [diff_list]\n\u001b[0;32m     <a href='vscode-notebook-cell:/d%3A/data/programming/advent-of-code-2023/notebooks/09.%20Mirage%20Maintenance.ipynb#X11sZmlsZQ%3D%3D?line=18'>19</a>\u001b[0m     \u001b[39mif\u001b[39;00m remaining_diffs \u001b[39mis\u001b[39;00m \u001b[39mnot\u001b[39;00m \u001b[39mNone\u001b[39;00m:\n",
      "\u001b[1;32md:\\data\\programming\\advent-of-code-2023\\notebooks\\09. Mirage Maintenance.ipynb Cell 11\u001b[0m line \u001b[0;36m7\n\u001b[0;32m      <a href='vscode-notebook-cell:/d%3A/data/programming/advent-of-code-2023/notebooks/09.%20Mirage%20Maintenance.ipynb#X11sZmlsZQ%3D%3D?line=1'>2</a>\u001b[0m \u001b[39m\u001b[39m\u001b[39m\"\"\"\u001b[39;00m\n\u001b[0;32m      <a href='vscode-notebook-cell:/d%3A/data/programming/advent-of-code-2023/notebooks/09.%20Mirage%20Maintenance.ipynb#X11sZmlsZQ%3D%3D?line=2'>3</a>\u001b[0m \u001b[39mThis helper method will identify the \"difference rows\" for each of the sequences.\u001b[39;00m\n\u001b[0;32m      <a href='vscode-notebook-cell:/d%3A/data/programming/advent-of-code-2023/notebooks/09.%20Mirage%20Maintenance.ipynb#X11sZmlsZQ%3D%3D?line=3'>4</a>\u001b[0m \u001b[39m\"\"\"\u001b[39;00m\n\u001b[0;32m      <a href='vscode-notebook-cell:/d%3A/data/programming/advent-of-code-2023/notebooks/09.%20Mirage%20Maintenance.ipynb#X11sZmlsZQ%3D%3D?line=5'>6</a>\u001b[0m \u001b[39m# First, check if the initial_sequence isn't all 0's\u001b[39;00m\n\u001b[1;32m----> <a href='vscode-notebook-cell:/d%3A/data/programming/advent-of-code-2023/notebooks/09.%20Mirage%20Maintenance.ipynb#X11sZmlsZQ%3D%3D?line=6'>7</a>\u001b[0m \u001b[39mif\u001b[39;00m \u001b[39mnot\u001b[39;00m \u001b[39many\u001b[39m([x \u001b[39m!=\u001b[39;49m \u001b[39m0\u001b[39;49m \u001b[39mfor\u001b[39;49;00m x \u001b[39min\u001b[39;49;00m input_data[\u001b[39m1\u001b[39;49m]]):\n\u001b[0;32m      <a href='vscode-notebook-cell:/d%3A/data/programming/advent-of-code-2023/notebooks/09.%20Mirage%20Maintenance.ipynb#X11sZmlsZQ%3D%3D?line=7'>8</a>\u001b[0m     \u001b[39mreturn\u001b[39;00m \u001b[39mNone\u001b[39;00m\n\u001b[0;32m     <a href='vscode-notebook-cell:/d%3A/data/programming/advent-of-code-2023/notebooks/09.%20Mirage%20Maintenance.ipynb#X11sZmlsZQ%3D%3D?line=9'>10</a>\u001b[0m \u001b[39m# Otherwise, we're going to create a list of the differences\u001b[39;00m\n\u001b[0;32m     <a href='vscode-notebook-cell:/d%3A/data/programming/advent-of-code-2023/notebooks/09.%20Mirage%20Maintenance.ipynb#X11sZmlsZQ%3D%3D?line=10'>11</a>\u001b[0m \u001b[39melse\u001b[39;00m:\n",
      "\u001b[1;32md:\\data\\programming\\advent-of-code-2023\\notebooks\\09. Mirage Maintenance.ipynb Cell 11\u001b[0m line \u001b[0;36m7\n\u001b[0;32m      <a href='vscode-notebook-cell:/d%3A/data/programming/advent-of-code-2023/notebooks/09.%20Mirage%20Maintenance.ipynb#X11sZmlsZQ%3D%3D?line=1'>2</a>\u001b[0m \u001b[39m\u001b[39m\u001b[39m\"\"\"\u001b[39;00m\n\u001b[0;32m      <a href='vscode-notebook-cell:/d%3A/data/programming/advent-of-code-2023/notebooks/09.%20Mirage%20Maintenance.ipynb#X11sZmlsZQ%3D%3D?line=2'>3</a>\u001b[0m \u001b[39mThis helper method will identify the \"difference rows\" for each of the sequences.\u001b[39;00m\n\u001b[0;32m      <a href='vscode-notebook-cell:/d%3A/data/programming/advent-of-code-2023/notebooks/09.%20Mirage%20Maintenance.ipynb#X11sZmlsZQ%3D%3D?line=3'>4</a>\u001b[0m \u001b[39m\"\"\"\u001b[39;00m\n\u001b[0;32m      <a href='vscode-notebook-cell:/d%3A/data/programming/advent-of-code-2023/notebooks/09.%20Mirage%20Maintenance.ipynb#X11sZmlsZQ%3D%3D?line=5'>6</a>\u001b[0m \u001b[39m# First, check if the initial_sequence isn't all 0's\u001b[39;00m\n\u001b[1;32m----> <a href='vscode-notebook-cell:/d%3A/data/programming/advent-of-code-2023/notebooks/09.%20Mirage%20Maintenance.ipynb#X11sZmlsZQ%3D%3D?line=6'>7</a>\u001b[0m \u001b[39mif\u001b[39;00m \u001b[39mnot\u001b[39;00m \u001b[39many\u001b[39m([x \u001b[39m!=\u001b[39;49m \u001b[39m0\u001b[39;49m \u001b[39mfor\u001b[39;00m x \u001b[39min\u001b[39;00m input_data[\u001b[39m1\u001b[39m]]):\n\u001b[0;32m      <a href='vscode-notebook-cell:/d%3A/data/programming/advent-of-code-2023/notebooks/09.%20Mirage%20Maintenance.ipynb#X11sZmlsZQ%3D%3D?line=7'>8</a>\u001b[0m     \u001b[39mreturn\u001b[39;00m \u001b[39mNone\u001b[39;00m\n\u001b[0;32m     <a href='vscode-notebook-cell:/d%3A/data/programming/advent-of-code-2023/notebooks/09.%20Mirage%20Maintenance.ipynb#X11sZmlsZQ%3D%3D?line=9'>10</a>\u001b[0m \u001b[39m# Otherwise, we're going to create a list of the differences\u001b[39;00m\n\u001b[0;32m     <a href='vscode-notebook-cell:/d%3A/data/programming/advent-of-code-2023/notebooks/09.%20Mirage%20Maintenance.ipynb#X11sZmlsZQ%3D%3D?line=10'>11</a>\u001b[0m \u001b[39melse\u001b[39;00m:\n",
      "\u001b[1;31mRecursionError\u001b[0m: maximum recursion depth exceeded in comparison"
     ]
    }
   ],
   "source": [
    "history_diff_sequences = {}\n",
    "for idx, initial_sequence in enumerate(input_data):\n",
    "    if all([x == 0 for x in initial_sequence]):\n",
    "        history_diff_sequences[idx] = [initial_sequence]\n",
    "    else:\n",
    "        history_diff_sequences[idx] = [initial_sequence] + identify_difference_rows(initial_sequence)"
   ]
  },
  {
   "cell_type": "markdown",
   "metadata": {},
   "source": [
    "I'll also need a method to find the new numbers: "
   ]
  },
  {
   "cell_type": "code",
   "execution_count": null,
   "metadata": {},
   "outputs": [],
   "source": [
    "def identify_next_sequence_num(diff_sequence):\n",
    "    \"\"\"\n",
    "    This helper method will assist in finding the next number in the sequence. \n",
    "    \"\"\"\n",
    "    next_sequence_num = 0\n",
    "    new_cols = [next_sequence_num]\n",
    "    for row in reversed(diff_sequence):\n",
    "        next_sequence_num += row[-1]\n",
    "        new_cols.append(next_sequence_num)\n",
    "    return next_sequence_num, new_cols[::-1]"
   ]
  },
  {
   "cell_type": "markdown",
   "metadata": {},
   "source": [
    "Let's put it all together to find the sum of all of the next numbers:"
   ]
  },
  {
   "cell_type": "code",
   "execution_count": null,
   "metadata": {},
   "outputs": [],
   "source": [
    "next_numbers_df_records = []\n",
    "for row_num, diff_sequence in tqdm(list(history_diff_sequences.items())):\n",
    "    next_sequence_num, new_cols = identify_next_sequence_num(diff_sequence)\n",
    "    next_numbers_df_records.append(\n",
    "        {\n",
    "            \"history_num\": row_num,\n",
    "            \"history\": diff_sequence[0],\n",
    "            \"history_length\": len(diff_sequence[0]),\n",
    "            \"diff_sequence\": diff_sequence,\n",
    "            \"next_number\": next_sequence_num,\n",
    "            \"new_diff_sequence\": [\n",
    "                row + [new_cols[idx]] for idx, row in enumerate(diff_sequence)\n",
    "            ],\n",
    "        }\n",
    "    )\n",
    "next_numbers_df = pd.DataFrame(next_numbers_df_records)\n",
    "\n",
    "# Print some of this information\n",
    "print(f\"The sum of the new numbers in each of the histories is '{next_numbers_df['next_number'].sum()}'.\")\n",
    "\n",
    "next_numbers_df.head(5)"
   ]
  },
  {
   "cell_type": "code",
   "execution_count": null,
   "metadata": {},
   "outputs": [],
   "source": [
    "n = 18\n",
    "for line in next_numbers_df.iloc[n].diff_sequence:\n",
    "    print(line)\n",
    "print()\n",
    "for line in next_numbers_df.iloc[n].new_diff_sequence:\n",
    "    print(line)"
   ]
  },
  {
   "cell_type": "code",
   "execution_count": null,
   "metadata": {},
   "outputs": [],
   "source": [
    "next_numbers_df.iloc[0].history"
   ]
  },
  {
   "cell_type": "code",
   "execution_count": null,
   "metadata": {},
   "outputs": [],
   "source": []
  }
 ],
 "metadata": {
  "kernelspec": {
   "display_name": ".venv",
   "language": "python",
   "name": "python3"
  },
  "language_info": {
   "codemirror_mode": {
    "name": "ipython",
    "version": 3
   },
   "file_extension": ".py",
   "mimetype": "text/x-python",
   "name": "python",
   "nbconvert_exporter": "python",
   "pygments_lexer": "ipython3",
   "version": "3.11.0"
  }
 },
 "nbformat": 4,
 "nbformat_minor": 2
}
