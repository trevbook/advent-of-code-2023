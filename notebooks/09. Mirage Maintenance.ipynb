{
 "cells": [
  {
   "cell_type": "markdown",
   "metadata": {},
   "source": [
    "# **Day 9: Mirage Maintenance**"
   ]
  },
  {
   "cell_type": "markdown",
   "metadata": {},
   "source": [
    "# Setup\n",
    "The cells below will set up the rest of the notebook. \n",
    "\n",
    "I'll start by configuring my kernel:"
   ]
  },
  {
   "cell_type": "code",
   "execution_count": 1,
   "metadata": {},
   "outputs": [
    {
     "name": "stdout",
     "output_type": "stream",
     "text": [
      "d:\\data\\programming\\advent-of-code-2023\n"
     ]
    }
   ],
   "source": [
    "# Changing the current working directory\n",
    "%cd ..\n",
    "\n",
    "# Enabling the autoreload extension\n",
    "%load_ext autoreload\n",
    "%autoreload 2"
   ]
  },
  {
   "cell_type": "markdown",
   "metadata": {},
   "source": [
    "Now, I'm going to import some libraries:"
   ]
  },
  {
   "cell_type": "code",
   "execution_count": 2,
   "metadata": {},
   "outputs": [],
   "source": [
    "# Import statements\n",
    "import pandas as pd\n",
    "import re\n",
    "from tqdm import tqdm"
   ]
  },
  {
   "cell_type": "markdown",
   "metadata": {},
   "source": [
    "Finally, I'll load in the data for this puzzle. "
   ]
  },
  {
   "cell_type": "code",
   "execution_count": 3,
   "metadata": {},
   "outputs": [],
   "source": [
    "# Load in the data for the puzzle\n",
    "day = 9\n",
    "input_data_path = f\"data/input-files/day-{day:02d}-input.txt\"\n",
    "example_data_path = f\"data/example-input/day-{day:02d}-example.txt\"\n",
    "with open(input_data_path, \"r\") as txt_file:\n",
    "    input_data = txt_file.readlines()\n",
    "input_data = [[int(num) for num in line.strip().split(\" \")] for line in input_data]"
   ]
  },
  {
   "cell_type": "markdown",
   "metadata": {},
   "source": [
    "# Calculating Missing Sequence Numbers\n",
    "I think that a recursive method could be used to calculate the differences. "
   ]
  },
  {
   "cell_type": "code",
   "execution_count": 6,
   "metadata": {},
   "outputs": [],
   "source": [
    "def identify_difference_rows(initial_sequence):\n",
    "    \"\"\"\n",
    "    This helper method will identify the \"difference rows\" for each of the sequences.\n",
    "    \"\"\"\n",
    "\n",
    "    # First, check if the initial_sequence isn't all 0's\n",
    "    if all([x == 0 for x in initial_sequence]):\n",
    "        return None\n",
    "\n",
    "    # Otherwise, we're going to create a list of the differences\n",
    "    else:\n",
    "        diff_list = [\n",
    "            val - initial_sequence[idx - 1]\n",
    "            for idx, val in enumerate(initial_sequence)\n",
    "            if idx > 0\n",
    "        ]\n",
    "        remaining_diffs = identify_difference_rows(diff_list)\n",
    "        my_list = [diff_list]\n",
    "        if remaining_diffs is not None:\n",
    "            my_list = [diff_list] + remaining_diffs\n",
    "        return my_list"
   ]
  },
  {
   "cell_type": "markdown",
   "metadata": {},
   "source": [
    "Now, with this method in hand, we can calculate the rows for each of the different histories:"
   ]
  },
  {
   "cell_type": "code",
   "execution_count": 7,
   "metadata": {},
   "outputs": [],
   "source": [
    "history_diff_sequences = {}\n",
    "for idx, initial_sequence in enumerate(input_data):\n",
    "    if all([x == 0 for x in initial_sequence]):\n",
    "        history_diff_sequences[idx] = [initial_sequence]\n",
    "    else:\n",
    "        history_diff_sequences[idx] = [initial_sequence] + identify_difference_rows(initial_sequence)"
   ]
  },
  {
   "cell_type": "markdown",
   "metadata": {},
   "source": [
    "I'll also need a method to find the new numbers: "
   ]
  },
  {
   "cell_type": "code",
   "execution_count": 8,
   "metadata": {},
   "outputs": [],
   "source": [
    "def identify_next_sequence_num(diff_sequence):\n",
    "    \"\"\"\n",
    "    This helper method will assist in finding the next number in the sequence. \n",
    "    \"\"\"\n",
    "    next_sequence_num = 0\n",
    "    new_cols = [next_sequence_num]\n",
    "    for row in reversed(diff_sequence):\n",
    "        next_sequence_num += row[-1]\n",
    "        new_cols.append(next_sequence_num)\n",
    "    return next_sequence_num, new_cols[::-1]"
   ]
  },
  {
   "cell_type": "markdown",
   "metadata": {},
   "source": [
    "Let's put it all together to find the sum of all of the next numbers:"
   ]
  },
  {
   "cell_type": "code",
   "execution_count": 9,
   "metadata": {},
   "outputs": [
    {
     "name": "stderr",
     "output_type": "stream",
     "text": [
      "100%|██████████| 200/200 [00:00<00:00, 132563.34it/s]"
     ]
    },
    {
     "name": "stdout",
     "output_type": "stream",
     "text": [
      "The sum of the new numbers in each of the histories is '1725987467'.\n"
     ]
    },
    {
     "name": "stderr",
     "output_type": "stream",
     "text": [
      "\n"
     ]
    },
    {
     "data": {
      "text/html": [
       "<div>\n",
       "<style scoped>\n",
       "    .dataframe tbody tr th:only-of-type {\n",
       "        vertical-align: middle;\n",
       "    }\n",
       "\n",
       "    .dataframe tbody tr th {\n",
       "        vertical-align: top;\n",
       "    }\n",
       "\n",
       "    .dataframe thead th {\n",
       "        text-align: right;\n",
       "    }\n",
       "</style>\n",
       "<table border=\"1\" class=\"dataframe\">\n",
       "  <thead>\n",
       "    <tr style=\"text-align: right;\">\n",
       "      <th></th>\n",
       "      <th>history_num</th>\n",
       "      <th>history</th>\n",
       "      <th>history_length</th>\n",
       "      <th>diff_sequence</th>\n",
       "      <th>next_number</th>\n",
       "      <th>new_diff_sequence</th>\n",
       "    </tr>\n",
       "  </thead>\n",
       "  <tbody>\n",
       "    <tr>\n",
       "      <th>0</th>\n",
       "      <td>0</td>\n",
       "      <td>[18, 38, 67, 109, 184, 355, 767, 1698, 3622, 7...</td>\n",
       "      <td>21</td>\n",
       "      <td>[[18, 38, 67, 109, 184, 355, 767, 1698, 3622, ...</td>\n",
       "      <td>1303999</td>\n",
       "      <td>[[18, 38, 67, 109, 184, 355, 767, 1698, 3622, ...</td>\n",
       "    </tr>\n",
       "    <tr>\n",
       "      <th>1</th>\n",
       "      <td>1</td>\n",
       "      <td>[7, 1, -5, 0, 28, 99, 260, 616, 1373, 2893, 57...</td>\n",
       "      <td>21</td>\n",
       "      <td>[[7, 1, -5, 0, 28, 99, 260, 616, 1373, 2893, 5...</td>\n",
       "      <td>814107</td>\n",
       "      <td>[[7, 1, -5, 0, 28, 99, 260, 616, 1373, 2893, 5...</td>\n",
       "    </tr>\n",
       "    <tr>\n",
       "      <th>2</th>\n",
       "      <td>2</td>\n",
       "      <td>[10, 9, 2, -15, -46, -95, -166, -263, -390, -5...</td>\n",
       "      <td>21</td>\n",
       "      <td>[[10, 9, 2, -15, -46, -95, -166, -263, -390, -...</td>\n",
       "      <td>-6591</td>\n",
       "      <td>[[10, 9, 2, -15, -46, -95, -166, -263, -390, -...</td>\n",
       "    </tr>\n",
       "    <tr>\n",
       "      <th>3</th>\n",
       "      <td>3</td>\n",
       "      <td>[20, 32, 46, 66, 96, 140, 202, 286, 396, 536, ...</td>\n",
       "      <td>21</td>\n",
       "      <td>[[20, 32, 46, 66, 96, 140, 202, 286, 396, 536,...</td>\n",
       "      <td>6012</td>\n",
       "      <td>[[20, 32, 46, 66, 96, 140, 202, 286, 396, 536,...</td>\n",
       "    </tr>\n",
       "    <tr>\n",
       "      <th>4</th>\n",
       "      <td>4</td>\n",
       "      <td>[-1, -2, -2, 15, 92, 314, 825, 1846, 3693, 679...</td>\n",
       "      <td>21</td>\n",
       "      <td>[[-1, -2, -2, 15, 92, 314, 825, 1846, 3693, 67...</td>\n",
       "      <td>480546</td>\n",
       "      <td>[[-1, -2, -2, 15, 92, 314, 825, 1846, 3693, 67...</td>\n",
       "    </tr>\n",
       "  </tbody>\n",
       "</table>\n",
       "</div>"
      ],
      "text/plain": [
       "   history_num                                            history  \\\n",
       "0            0  [18, 38, 67, 109, 184, 355, 767, 1698, 3622, 7...   \n",
       "1            1  [7, 1, -5, 0, 28, 99, 260, 616, 1373, 2893, 57...   \n",
       "2            2  [10, 9, 2, -15, -46, -95, -166, -263, -390, -5...   \n",
       "3            3  [20, 32, 46, 66, 96, 140, 202, 286, 396, 536, ...   \n",
       "4            4  [-1, -2, -2, 15, 92, 314, 825, 1846, 3693, 679...   \n",
       "\n",
       "   history_length                                      diff_sequence  \\\n",
       "0              21  [[18, 38, 67, 109, 184, 355, 767, 1698, 3622, ...   \n",
       "1              21  [[7, 1, -5, 0, 28, 99, 260, 616, 1373, 2893, 5...   \n",
       "2              21  [[10, 9, 2, -15, -46, -95, -166, -263, -390, -...   \n",
       "3              21  [[20, 32, 46, 66, 96, 140, 202, 286, 396, 536,...   \n",
       "4              21  [[-1, -2, -2, 15, 92, 314, 825, 1846, 3693, 67...   \n",
       "\n",
       "   next_number                                  new_diff_sequence  \n",
       "0      1303999  [[18, 38, 67, 109, 184, 355, 767, 1698, 3622, ...  \n",
       "1       814107  [[7, 1, -5, 0, 28, 99, 260, 616, 1373, 2893, 5...  \n",
       "2        -6591  [[10, 9, 2, -15, -46, -95, -166, -263, -390, -...  \n",
       "3         6012  [[20, 32, 46, 66, 96, 140, 202, 286, 396, 536,...  \n",
       "4       480546  [[-1, -2, -2, 15, 92, 314, 825, 1846, 3693, 67...  "
      ]
     },
     "execution_count": 9,
     "metadata": {},
     "output_type": "execute_result"
    }
   ],
   "source": [
    "next_numbers_df_records = []\n",
    "for row_num, diff_sequence in tqdm(list(history_diff_sequences.items())):\n",
    "    next_sequence_num, new_cols = identify_next_sequence_num(diff_sequence)\n",
    "    next_numbers_df_records.append(\n",
    "        {\n",
    "            \"history_num\": row_num,\n",
    "            \"history\": diff_sequence[0],\n",
    "            \"history_length\": len(diff_sequence[0]),\n",
    "            \"diff_sequence\": diff_sequence,\n",
    "            \"next_number\": next_sequence_num,\n",
    "            \"new_diff_sequence\": [\n",
    "                row + [new_cols[idx]] for idx, row in enumerate(diff_sequence)\n",
    "            ],\n",
    "        }\n",
    "    )\n",
    "next_numbers_df = pd.DataFrame(next_numbers_df_records)\n",
    "\n",
    "# Print some of this information\n",
    "print(f\"The sum of the new numbers in each of the histories is '{next_numbers_df['next_number'].sum()}'.\")\n",
    "\n",
    "next_numbers_df.head(5)"
   ]
  },
  {
   "cell_type": "markdown",
   "metadata": {},
   "source": [
    "# PART 2\n",
    "I got this one spoiled for me as I was trawling the Reddit for a hint to why my thing wasn't completing for Part 1 😔 I just need to reverse the lists. \n",
    "\n",
    "Part 1 wasn't completing, since I was trying to be clever with the termination of my recursion. (I was looking for \"the sum of the history is 0\", but I should've been checking all of the values.)"
   ]
  },
  {
   "cell_type": "code",
   "execution_count": 12,
   "metadata": {},
   "outputs": [],
   "source": [
    "history_diff_sequences = {}\n",
    "for idx, initial_sequence in enumerate(input_data):\n",
    "    initial_sequence = initial_sequence[::-1]\n",
    "    if all([x == 0 for x in initial_sequence]):\n",
    "        history_diff_sequences[idx] = [initial_sequence]\n",
    "    else:\n",
    "        history_diff_sequences[idx] = [initial_sequence] + identify_difference_rows(initial_sequence)"
   ]
  },
  {
   "cell_type": "code",
   "execution_count": 13,
   "metadata": {},
   "outputs": [
    {
     "name": "stderr",
     "output_type": "stream",
     "text": [
      "100%|██████████| 200/200 [00:00<00:00, 3299.06it/s]"
     ]
    },
    {
     "name": "stdout",
     "output_type": "stream",
     "text": [
      "The sum of the new numbers in each of the histories is '971'.\n"
     ]
    },
    {
     "name": "stderr",
     "output_type": "stream",
     "text": [
      "\n"
     ]
    },
    {
     "data": {
      "text/html": [
       "<div>\n",
       "<style scoped>\n",
       "    .dataframe tbody tr th:only-of-type {\n",
       "        vertical-align: middle;\n",
       "    }\n",
       "\n",
       "    .dataframe tbody tr th {\n",
       "        vertical-align: top;\n",
       "    }\n",
       "\n",
       "    .dataframe thead th {\n",
       "        text-align: right;\n",
       "    }\n",
       "</style>\n",
       "<table border=\"1\" class=\"dataframe\">\n",
       "  <thead>\n",
       "    <tr style=\"text-align: right;\">\n",
       "      <th></th>\n",
       "      <th>history_num</th>\n",
       "      <th>history</th>\n",
       "      <th>history_length</th>\n",
       "      <th>diff_sequence</th>\n",
       "      <th>next_number</th>\n",
       "      <th>new_diff_sequence</th>\n",
       "    </tr>\n",
       "  </thead>\n",
       "  <tbody>\n",
       "    <tr>\n",
       "      <th>0</th>\n",
       "      <td>0</td>\n",
       "      <td>[967936, 707369, 508083, 357970, 246810, 16606...</td>\n",
       "      <td>21</td>\n",
       "      <td>[[967936, 707369, 508083, 357970, 246810, 1660...</td>\n",
       "      <td>4</td>\n",
       "      <td>[[967936, 707369, 508083, 357970, 246810, 1660...</td>\n",
       "    </tr>\n",
       "    <tr>\n",
       "      <th>1</th>\n",
       "      <td>1</td>\n",
       "      <td>[590920, 421408, 294679, 201593, 134563, 87368...</td>\n",
       "      <td>21</td>\n",
       "      <td>[[590920, 421408, 294679, 201593, 134563, 8736...</td>\n",
       "      <td>8</td>\n",
       "      <td>[[590920, 421408, 294679, 201593, 134563, 8736...</td>\n",
       "    </tr>\n",
       "    <tr>\n",
       "      <th>2</th>\n",
       "      <td>2</td>\n",
       "      <td>[-5710, -4911, -4190, -3543, -2966, -2455, -20...</td>\n",
       "      <td>21</td>\n",
       "      <td>[[-5710, -4911, -4190, -3543, -2966, -2455, -2...</td>\n",
       "      <td>9</td>\n",
       "      <td>[[-5710, -4911, -4190, -3543, -2966, -2455, -2...</td>\n",
       "    </tr>\n",
       "    <tr>\n",
       "      <th>3</th>\n",
       "      <td>3</td>\n",
       "      <td>[5200, 4466, 3806, 3216, 2692, 2230, 1826, 147...</td>\n",
       "      <td>21</td>\n",
       "      <td>[[5200, 4466, 3806, 3216, 2692, 2230, 1826, 14...</td>\n",
       "      <td>6</td>\n",
       "      <td>[[5200, 4466, 3806, 3216, 2692, 2230, 1826, 14...</td>\n",
       "    </tr>\n",
       "    <tr>\n",
       "      <th>4</th>\n",
       "      <td>4</td>\n",
       "      <td>[381784, 298603, 229634, 173382, 128299, 92844...</td>\n",
       "      <td>21</td>\n",
       "      <td>[[381784, 298603, 229634, 173382, 128299, 9284...</td>\n",
       "      <td>0</td>\n",
       "      <td>[[381784, 298603, 229634, 173382, 128299, 9284...</td>\n",
       "    </tr>\n",
       "  </tbody>\n",
       "</table>\n",
       "</div>"
      ],
      "text/plain": [
       "   history_num                                            history  \\\n",
       "0            0  [967936, 707369, 508083, 357970, 246810, 16606...   \n",
       "1            1  [590920, 421408, 294679, 201593, 134563, 87368...   \n",
       "2            2  [-5710, -4911, -4190, -3543, -2966, -2455, -20...   \n",
       "3            3  [5200, 4466, 3806, 3216, 2692, 2230, 1826, 147...   \n",
       "4            4  [381784, 298603, 229634, 173382, 128299, 92844...   \n",
       "\n",
       "   history_length                                      diff_sequence  \\\n",
       "0              21  [[967936, 707369, 508083, 357970, 246810, 1660...   \n",
       "1              21  [[590920, 421408, 294679, 201593, 134563, 8736...   \n",
       "2              21  [[-5710, -4911, -4190, -3543, -2966, -2455, -2...   \n",
       "3              21  [[5200, 4466, 3806, 3216, 2692, 2230, 1826, 14...   \n",
       "4              21  [[381784, 298603, 229634, 173382, 128299, 9284...   \n",
       "\n",
       "   next_number                                  new_diff_sequence  \n",
       "0            4  [[967936, 707369, 508083, 357970, 246810, 1660...  \n",
       "1            8  [[590920, 421408, 294679, 201593, 134563, 8736...  \n",
       "2            9  [[-5710, -4911, -4190, -3543, -2966, -2455, -2...  \n",
       "3            6  [[5200, 4466, 3806, 3216, 2692, 2230, 1826, 14...  \n",
       "4            0  [[381784, 298603, 229634, 173382, 128299, 9284...  "
      ]
     },
     "execution_count": 13,
     "metadata": {},
     "output_type": "execute_result"
    }
   ],
   "source": [
    "next_numbers_df_records = []\n",
    "for row_num, diff_sequence in tqdm(list(history_diff_sequences.items())):\n",
    "    next_sequence_num, new_cols = identify_next_sequence_num(diff_sequence)\n",
    "    next_numbers_df_records.append(\n",
    "        {\n",
    "            \"history_num\": row_num,\n",
    "            \"history\": diff_sequence[0],\n",
    "            \"history_length\": len(diff_sequence[0]),\n",
    "            \"diff_sequence\": diff_sequence,\n",
    "            \"next_number\": next_sequence_num,\n",
    "            \"new_diff_sequence\": [\n",
    "                row + [new_cols[idx]] for idx, row in enumerate(diff_sequence)\n",
    "            ],\n",
    "        }\n",
    "    )\n",
    "next_numbers_df = pd.DataFrame(next_numbers_df_records)\n",
    "\n",
    "# Print some of this information\n",
    "print(f\"The sum of the new numbers in each of the histories is '{next_numbers_df['next_number'].sum()}'.\")\n",
    "\n",
    "next_numbers_df.head(5)"
   ]
  },
  {
   "cell_type": "code",
   "execution_count": null,
   "metadata": {},
   "outputs": [],
   "source": []
  }
 ],
 "metadata": {
  "kernelspec": {
   "display_name": ".venv",
   "language": "python",
   "name": "python3"
  },
  "language_info": {
   "codemirror_mode": {
    "name": "ipython",
    "version": 3
   },
   "file_extension": ".py",
   "mimetype": "text/x-python",
   "name": "python",
   "nbconvert_exporter": "python",
   "pygments_lexer": "ipython3",
   "version": "3.11.0"
  }
 },
 "nbformat": 4,
 "nbformat_minor": 2
}
