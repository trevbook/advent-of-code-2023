{
 "cells": [
  {
   "cell_type": "markdown",
   "metadata": {},
   "source": [
    "# **Day 1: Trebuchet?!**\n",
    "This one seems pretty easy - just need to scan a file for the first and last instance of a number. "
   ]
  },
  {
   "cell_type": "markdown",
   "metadata": {},
   "source": [
    "# Setup\n",
    "The cells below will set up the rest of the notebook. \n",
    "\n",
    "I'll start by configuring the kernel:"
   ]
  },
  {
   "cell_type": "code",
   "execution_count": 1,
   "metadata": {},
   "outputs": [
    {
     "name": "stdout",
     "output_type": "stream",
     "text": [
      "d:\\data\\programming\\advent-of-code-2023\n"
     ]
    }
   ],
   "source": [
    "# Changing the current working directory\n",
    "%cd ..\n",
    "\n",
    "# Enabling the autoreload extension\n",
    "%load_ext autoreload\n",
    "%autoreload 2"
   ]
  },
  {
   "cell_type": "markdown",
   "metadata": {},
   "source": [
    "Now that we're solid there, I can load in some libraries:"
   ]
  },
  {
   "cell_type": "code",
   "execution_count": 15,
   "metadata": {},
   "outputs": [],
   "source": [
    "# Import statements\n",
    "import re"
   ]
  },
  {
   "cell_type": "markdown",
   "metadata": {},
   "source": [
    "Next, I'll load in the data."
   ]
  },
  {
   "cell_type": "code",
   "execution_count": 3,
   "metadata": {},
   "outputs": [],
   "source": [
    "# Load in the .txt file with the data\n",
    "with open(\"data/input-files/day-01-input.txt\", \"r\") as txt_file:\n",
    "    input_data = txt_file.read().splitlines()"
   ]
  },
  {
   "cell_type": "markdown",
   "metadata": {},
   "source": [
    "# Identifying a Calibration Number\n",
    "Each of the calibration numbers are made from the first and last digits found in the string. That's super easy to find. "
   ]
  },
  {
   "cell_type": "code",
   "execution_count": 6,
   "metadata": {},
   "outputs": [],
   "source": [
    "def identify_calibration_number(input_str):\n",
    "    \"\"\"\n",
    "    This method will identify the calibration number within the `input_str`. \n",
    "    This number will be a 2-digit number composed of the first and last digits\n",
    "    found in the string. \n",
    "    \"\"\"\n",
    "    \n",
    "    # Identify the numeric characters from the input string\n",
    "    numerical_chars = [char for char in input_str if char.isnumeric()]\n",
    "    \n",
    "    # Extract the first and last digits\n",
    "    first_digit = numerical_chars[0]\n",
    "    last_digit = numerical_chars[-1]\n",
    "    \n",
    "    # Combine these digits, and cast the resulting string as an integer\n",
    "    calibration_number = int(f\"{first_digit}{last_digit}\")\n",
    "    \n",
    "    # Return the calibration number\n",
    "    return calibration_number "
   ]
  },
  {
   "cell_type": "markdown",
   "metadata": {},
   "source": [
    "Now that we've defined the method, we can run it on all of the strings in the `input_data` to get the sum. "
   ]
  },
  {
   "cell_type": "code",
   "execution_count": 9,
   "metadata": {},
   "outputs": [
    {
     "name": "stdout",
     "output_type": "stream",
     "text": [
      "The sum of the calibration numbers is 54708.\n"
     ]
    }
   ],
   "source": [
    "# Sum up all of the calibration numbers identified in the input_data\n",
    "calibration_number_sum = sum([identify_calibration_number(input_str) for input_str in input_data])\n",
    "\n",
    "# Print the sum of the numbers\n",
    "print(f\"The sum of the calibration numbers is {calibration_number_sum}.\")"
   ]
  },
  {
   "cell_type": "markdown",
   "metadata": {},
   "source": [
    "# Part 2: Spelled-Out Digits\n",
    "Seems like I need to identify digits that are spelled out with letters too. That shouldn't be *too* hard - I'll just need to look for individual substrings, look for their positions, and compare them to the positions of the digits. "
   ]
  },
  {
   "cell_type": "code",
   "execution_count": 24,
   "metadata": {},
   "outputs": [],
   "source": [
    "def identify_calibration_number_part_2(input_str):\n",
    "    \"\"\"\n",
    "    This method will identify the calibration number within the `input_str`. \n",
    "    This uses a slightly different algorithm than the first portion. \n",
    "    \"\"\"\n",
    "\n",
    "    # Define the list of substrings and the numbers they map to\n",
    "    str_to_num = {\n",
    "        \"one\": 1,\n",
    "        \"two\": 2,\n",
    "        \"three\": 3,\n",
    "        \"four\": 4,\n",
    "        \"five\": 5,\n",
    "        \"six\": 6,\n",
    "        \"seven\": 7,\n",
    "        \"eight\": 8,\n",
    "        \"nine\": 9,\n",
    "    }\n",
    "\n",
    "    # This dictionary will map string positions to the \"digit\" that's represented there\n",
    "    position_to_num_dict = {}\n",
    "\n",
    "    # Identify where all of the numerical strings start\n",
    "    for cur_str, cur_num in str_to_num.items():\n",
    "        # Compile a regular expression\n",
    "        pattern = re.compile(cur_str)\n",
    "\n",
    "        # Find all of the matches\n",
    "        for match in pattern.finditer(input_str):\n",
    "            # Add the start position to the position_to_num_dict\n",
    "            position_to_num_dict[match.start()] = cur_num\n",
    "\n",
    "    # Add in the string positions for the actual numerical digits in the input_str\n",
    "    position_to_num_dict |= {\n",
    "        idx: int(char)\n",
    "        for idx, char in enumerate([char for char in input_str])\n",
    "        if char.isnumeric()\n",
    "    }\n",
    "\n",
    "    # Sort the position_to_num_dict by the keys in ascending order\n",
    "    position_to_num_dict = {\n",
    "        k: v for k, v in sorted(position_to_num_dict.items(), key=lambda item: item[0])\n",
    "    }\n",
    "\n",
    "    # Extract the first and last digit \n",
    "    digits_in_order = [str(val) for key, val in position_to_num_dict.items()]\n",
    "    first_digit = digits_in_order[0]\n",
    "    last_digit = digits_in_order[-1]\n",
    "\n",
    "    # Combine the digits, and cast the resulting string as an integer\n",
    "    combined_num = int(f\"{first_digit}{last_digit}\")\n",
    "    \n",
    "    # Return the combined_num\n",
    "    return combined_num"
   ]
  },
  {
   "cell_type": "markdown",
   "metadata": {},
   "source": [
    "With this method in hand, we can find out the *actual* sum of the calibration numbers. "
   ]
  },
  {
   "cell_type": "code",
   "execution_count": 25,
   "metadata": {},
   "outputs": [
    {
     "name": "stdout",
     "output_type": "stream",
     "text": [
      "The sum of the calibration numbers is 54087.\n"
     ]
    }
   ],
   "source": [
    "# Sum up all of the calibration numbers identified in the input_data\n",
    "calibration_number_sum = sum([identify_calibration_number_part_2(input_str) for input_str in input_data])\n",
    "\n",
    "# Print the sum of the numbers\n",
    "print(f\"The sum of the calibration numbers is {calibration_number_sum}.\")"
   ]
  }
 ],
 "metadata": {
  "kernelspec": {
   "display_name": ".venv",
   "language": "python",
   "name": "python3"
  },
  "language_info": {
   "codemirror_mode": {
    "name": "ipython",
    "version": 3
   },
   "file_extension": ".py",
   "mimetype": "text/x-python",
   "name": "python",
   "nbconvert_exporter": "python",
   "pygments_lexer": "ipython3",
   "version": "3.11.0"
  }
 },
 "nbformat": 4,
 "nbformat_minor": 2
}
