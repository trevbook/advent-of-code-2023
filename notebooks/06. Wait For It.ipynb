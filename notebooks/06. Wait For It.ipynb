{
 "cells": [
  {
   "cell_type": "markdown",
   "metadata": {},
   "source": [
    "# **Day 6: Wait For It**"
   ]
  },
  {
   "cell_type": "markdown",
   "metadata": {},
   "source": [
    "# Setup\n",
    "The cells below will set up the rest of the notebook. \n",
    "\n",
    "I'll start by configuring my kernel:"
   ]
  },
  {
   "cell_type": "code",
   "execution_count": 1,
   "metadata": {},
   "outputs": [
    {
     "name": "stdout",
     "output_type": "stream",
     "text": [
      "/Users/thubbard/Documents/Personal/Programming/advent-of-code-2023\n"
     ]
    }
   ],
   "source": [
    "# Changing the current working directory\n",
    "%cd ..\n",
    "\n",
    "# Enabling the autoreload extension\n",
    "%load_ext autoreload\n",
    "%autoreload 2"
   ]
  },
  {
   "cell_type": "markdown",
   "metadata": {},
   "source": [
    "Now, I'm going to import some libraries:"
   ]
  },
  {
   "cell_type": "code",
   "execution_count": 2,
   "metadata": {},
   "outputs": [],
   "source": [
    "# Import statements\n",
    "import pandas as pd\n",
    "import re"
   ]
  },
  {
   "cell_type": "markdown",
   "metadata": {},
   "source": [
    "Finally, I'll load in the data for this puzzle. "
   ]
  },
  {
   "cell_type": "code",
   "execution_count": 3,
   "metadata": {},
   "outputs": [],
   "source": [
    "# Load in the data for the puzzle\n",
    "with open(\"data/input-files/day-06-input.txt\", \"r\") as txt_file:\n",
    "    input_data = txt_file.readlines()"
   ]
  },
  {
   "cell_type": "markdown",
   "metadata": {},
   "source": [
    "# Parsing Input Data\n",
    "Let's parse the input data below:"
   ]
  },
  {
   "cell_type": "code",
   "execution_count": 22,
   "metadata": {},
   "outputs": [
    {
     "data": {
      "text/html": [
       "<div>\n",
       "<style scoped>\n",
       "    .dataframe tbody tr th:only-of-type {\n",
       "        vertical-align: middle;\n",
       "    }\n",
       "\n",
       "    .dataframe tbody tr th {\n",
       "        vertical-align: top;\n",
       "    }\n",
       "\n",
       "    .dataframe thead th {\n",
       "        text-align: right;\n",
       "    }\n",
       "</style>\n",
       "<table border=\"1\" class=\"dataframe\">\n",
       "  <thead>\n",
       "    <tr style=\"text-align: right;\">\n",
       "      <th></th>\n",
       "      <th>race_num</th>\n",
       "      <th>time</th>\n",
       "      <th>distance</th>\n",
       "    </tr>\n",
       "  </thead>\n",
       "  <tbody>\n",
       "    <tr>\n",
       "      <th>0</th>\n",
       "      <td>0</td>\n",
       "      <td>48</td>\n",
       "      <td>296</td>\n",
       "    </tr>\n",
       "    <tr>\n",
       "      <th>1</th>\n",
       "      <td>1</td>\n",
       "      <td>93</td>\n",
       "      <td>1928</td>\n",
       "    </tr>\n",
       "    <tr>\n",
       "      <th>2</th>\n",
       "      <td>2</td>\n",
       "      <td>85</td>\n",
       "      <td>1236</td>\n",
       "    </tr>\n",
       "    <tr>\n",
       "      <th>3</th>\n",
       "      <td>3</td>\n",
       "      <td>95</td>\n",
       "      <td>1391</td>\n",
       "    </tr>\n",
       "  </tbody>\n",
       "</table>\n",
       "</div>"
      ],
      "text/plain": [
       "   race_num  time  distance\n",
       "0         0    48       296\n",
       "1         1    93      1928\n",
       "2         2    85      1236\n",
       "3         3    95      1391"
      ]
     },
     "execution_count": 22,
     "metadata": {},
     "output_type": "execute_result"
    }
   ],
   "source": [
    "# Parse out each line into the parsed_info dict\n",
    "parsed_info = {}\n",
    "for line in input_data:\n",
    "    split_line = re.sub(\" +\", \" \", line.strip()).split(\" \")\n",
    "    data_type = split_line[0].split(\":\")[0].lower()\n",
    "    records = [int(x) for x in split_line[1:]]\n",
    "    parsed_info[data_type] = records\n",
    "\n",
    "# Now, make a DataFrame containing the information about each race\n",
    "race_info_df_records = []\n",
    "for idx in range(len(list(parsed_info.values())[0])):\n",
    "    cur_race_info = {\n",
    "        \"race_num\": idx\n",
    "    }\n",
    "    for key in parsed_info:\n",
    "        cur_race_info[key] = parsed_info[key][idx]\n",
    "    race_info_df_records.append(cur_race_info)\n",
    "race_info_df = pd.DataFrame.from_records(race_info_df_records)\n",
    "\n",
    "# Show off the DataFrame we've created\n",
    "race_info_df"
   ]
  },
  {
   "cell_type": "markdown",
   "metadata": {},
   "source": [
    "# Determining Strategies\n",
    "Next: I need to figure out a way to determine a strategy for each of the races. "
   ]
  },
  {
   "cell_type": "code",
   "execution_count": 25,
   "metadata": {},
   "outputs": [],
   "source": [
    "def determine_race_strategies(alotted_time, best_distance):\n",
    "    \"\"\"\n",
    "    This method will generate a DataFrame containing all of the different \"strategies\" for a\n",
    "    particular race. Each strategy will be a single row, where `hold_time` represents the number of\n",
    "    seconds you hold down the button, and `resulting_distance` represents the distance that\n",
    "    your boat travels during the rest of the `alotted_time`. If you beat the `best_distance`, then\n",
    "    the `new_record` column will be `True`; otherwise, it will be `False`.\n",
    "    \"\"\"\n",
    "\n",
    "    # Iterate through the different numbers of seconds you can hold the button\n",
    "    race_strategies_df_records = []\n",
    "    for cur_hold_time in range(alotted_time + 1):\n",
    "        # Calculate all of the relevant information for this strategy\n",
    "        remaining_time_after_hold = alotted_time - cur_hold_time\n",
    "        speed_during_remaining_hold_time = cur_hold_time\n",
    "        total_distance_travelled = (\n",
    "            speed_during_remaining_hold_time * remaining_time_after_hold\n",
    "        )\n",
    "        new_record = total_distance_travelled > best_distance\n",
    "\n",
    "        # Add the information to the race_strategies_df_records\n",
    "        race_strategies_df_records.append(\n",
    "            {\n",
    "                \"hold_time\": cur_hold_time,\n",
    "                \"time_spent_moving\": remaining_time_after_hold,\n",
    "                \"speed_during_movement\": speed_during_remaining_hold_time,\n",
    "                \"total_distance_travelled\": total_distance_travelled,\n",
    "                \"new_record\": new_record,\n",
    "            }\n",
    "        )\n",
    "\n",
    "    # Create a DataFrame from the race_strategies_df_records, and then return it\n",
    "    return pd.DataFrame.from_records(race_strategies_df_records)"
   ]
  },
  {
   "cell_type": "markdown",
   "metadata": {},
   "source": [
    "With this method in hand, we can calculate the number of winning strategies for each of the races:"
   ]
  },
  {
   "cell_type": "code",
   "execution_count": 32,
   "metadata": {},
   "outputs": [
    {
     "data": {
      "text/html": [
       "<div>\n",
       "<style scoped>\n",
       "    .dataframe tbody tr th:only-of-type {\n",
       "        vertical-align: middle;\n",
       "    }\n",
       "\n",
       "    .dataframe tbody tr th {\n",
       "        vertical-align: top;\n",
       "    }\n",
       "\n",
       "    .dataframe thead th {\n",
       "        text-align: right;\n",
       "    }\n",
       "</style>\n",
       "<table border=\"1\" class=\"dataframe\">\n",
       "  <thead>\n",
       "    <tr style=\"text-align: right;\">\n",
       "      <th></th>\n",
       "      <th>race_num</th>\n",
       "      <th>time</th>\n",
       "      <th>distance</th>\n",
       "      <th>n_winning_strategies</th>\n",
       "    </tr>\n",
       "  </thead>\n",
       "  <tbody>\n",
       "    <tr>\n",
       "      <th>0</th>\n",
       "      <td>0</td>\n",
       "      <td>48</td>\n",
       "      <td>296</td>\n",
       "      <td>33</td>\n",
       "    </tr>\n",
       "    <tr>\n",
       "      <th>1</th>\n",
       "      <td>1</td>\n",
       "      <td>93</td>\n",
       "      <td>1928</td>\n",
       "      <td>30</td>\n",
       "    </tr>\n",
       "    <tr>\n",
       "      <th>2</th>\n",
       "      <td>2</td>\n",
       "      <td>85</td>\n",
       "      <td>1236</td>\n",
       "      <td>48</td>\n",
       "    </tr>\n",
       "    <tr>\n",
       "      <th>3</th>\n",
       "      <td>3</td>\n",
       "      <td>95</td>\n",
       "      <td>1391</td>\n",
       "      <td>58</td>\n",
       "    </tr>\n",
       "  </tbody>\n",
       "</table>\n",
       "</div>"
      ],
      "text/plain": [
       "   race_num  time  distance  n_winning_strategies\n",
       "0         0    48       296                    33\n",
       "1         1    93      1928                    30\n",
       "2         2    85      1236                    48\n",
       "3         3    95      1391                    58"
      ]
     },
     "execution_count": 32,
     "metadata": {},
     "output_type": "execute_result"
    }
   ],
   "source": [
    "# We're going to make a new DataFrame that contains a column enumerating the winning strategies \n",
    "winning_strategies_df = race_info_df.copy()\n",
    "n_winning_strategies_col_values = []\n",
    "for row in winning_strategies_df.itertuples():\n",
    "    cur_race_strategies_df = determine_race_strategies(row.time, row.distance)\n",
    "    n_winning_strategies_col_values.append(\n",
    "        cur_race_strategies_df[\"new_record\"].sum()\n",
    "    )\n",
    "winning_strategies_df[\"n_winning_strategies\"] = n_winning_strategies_col_values\n",
    "\n",
    "# Show off the DataFrame with this new column\n",
    "winning_strategies_df"
   ]
  },
  {
   "cell_type": "markdown",
   "metadata": {},
   "source": [
    "Finally, we can answer the first question by multiplying the number of winning strategies for each race:"
   ]
  },
  {
   "cell_type": "code",
   "execution_count": 35,
   "metadata": {},
   "outputs": [
    {
     "name": "stdout",
     "output_type": "stream",
     "text": [
      "In total, there are '2756160' ways to win the grand prize.\n"
     ]
    }
   ],
   "source": [
    "# Print out the product of all of the numbers of winning strategies\n",
    "final_product = 1\n",
    "for n_winning_strategy in winning_strategies_df[\"n_winning_strategies\"]:\n",
    "    final_product *= n_winning_strategy\n",
    "print(f\"In total, there are '{final_product}' ways to win the grand prize.\")"
   ]
  },
  {
   "cell_type": "markdown",
   "metadata": {},
   "source": []
  },
  {
   "cell_type": "code",
   "execution_count": null,
   "metadata": {},
   "outputs": [],
   "source": []
  }
 ],
 "metadata": {
  "kernelspec": {
   "display_name": ".venv",
   "language": "python",
   "name": "python3"
  },
  "language_info": {
   "codemirror_mode": {
    "name": "ipython",
    "version": 3
   },
   "file_extension": ".py",
   "mimetype": "text/x-python",
   "name": "python",
   "nbconvert_exporter": "python",
   "pygments_lexer": "ipython3",
   "version": "3.11.0"
  }
 },
 "nbformat": 4,
 "nbformat_minor": 2
}
