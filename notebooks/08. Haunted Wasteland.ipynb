{
 "cells": [
  {
   "cell_type": "markdown",
   "metadata": {},
   "source": [
    "# **Day 8: Haunted Wasteland**"
   ]
  },
  {
   "cell_type": "markdown",
   "metadata": {},
   "source": [
    "# Setup\n",
    "The cells below will set up the rest of the notebook. \n",
    "\n",
    "I'll start by configuring my kernel:"
   ]
  },
  {
   "cell_type": "code",
   "execution_count": 1,
   "metadata": {},
   "outputs": [
    {
     "name": "stdout",
     "output_type": "stream",
     "text": [
      "d:\\data\\programming\\advent-of-code-2023\n"
     ]
    }
   ],
   "source": [
    "# Changing the current working directory\n",
    "%cd ..\n",
    "\n",
    "# Enabling the autoreload extension\n",
    "%load_ext autoreload\n",
    "%autoreload 2"
   ]
  },
  {
   "cell_type": "markdown",
   "metadata": {},
   "source": [
    "Now, I'm going to import some libraries:"
   ]
  },
  {
   "cell_type": "code",
   "execution_count": 2,
   "metadata": {},
   "outputs": [],
   "source": [
    "# Import statements\n",
    "import pandas as pd\n",
    "import re"
   ]
  },
  {
   "cell_type": "markdown",
   "metadata": {},
   "source": [
    "Finally, I'll load in the data for this puzzle. "
   ]
  },
  {
   "cell_type": "code",
   "execution_count": 3,
   "metadata": {},
   "outputs": [],
   "source": [
    "# Load in the data for the puzzle\n",
    "day = 8\n",
    "input_data_path = f\"data/input-files/day-{day:02d}-input.txt\"\n",
    "example_data_path = f\"data/example-input/day-{day:02d}-example.txt\"\n",
    "with open(input_data_path, \"r\") as txt_file:\n",
    "    input_data = txt_file.readlines()"
   ]
  },
  {
   "cell_type": "markdown",
   "metadata": {},
   "source": [
    "# Parsing the Puzzle Input\n",
    "This one seems deceptively easy... I'm a little suspicuous about Part 2. "
   ]
  },
  {
   "cell_type": "code",
   "execution_count": 4,
   "metadata": {},
   "outputs": [],
   "source": [
    "# Parse a DataFrame from the input_data\n",
    "direction_sequence = input_data[0].strip()\n",
    "node_info_str_list = [x.strip() for x in input_data[2:]]\n",
    "node_info_df = pd.DataFrame.from_records(\n",
    "    [\n",
    "        {\n",
    "            \"node_name\": node_info.split(\" = \")[0],\n",
    "            \"left_node\": node_info.split(\" = \")[1].split(\",\")[0][1:],\n",
    "            \"right_node\": node_info.split(\" = \")[1].split(\",\")[1][1:-1],\n",
    "        }\n",
    "        for node_info in node_info_str_list\n",
    "    ]\n",
    ")\n",
    "\n",
    "# Make a dictionary version of the data from the node_info_df\n",
    "node_dict = {row.node_name: {\n",
    "    \"L\": row.left_node,\n",
    "    \"R\": row.right_node,\n",
    "    } for row in node_info_df.itertuples()}"
   ]
  },
  {
   "cell_type": "markdown",
   "metadata": {},
   "source": [
    "# Traversal Method\n",
    "Now, I'm going to write a method that'll traverse the nodes from AAA to ZZZ. "
   ]
  },
  {
   "cell_type": "code",
   "execution_count": 5,
   "metadata": {},
   "outputs": [
    {
     "name": "stdout",
     "output_type": "stream",
     "text": [
      "You encounter '14429' nodes during your travels.\n"
     ]
    }
   ],
   "source": [
    "def traverse_nodes(directions, nodes):\n",
    "    \"\"\"\n",
    "    This method will follow a set of directions through a set of nodes.\n",
    "    \"\"\"\n",
    "    \n",
    "    # Create a while loop \n",
    "    visited_nodes = 0\n",
    "    visited_nodes_path = []\n",
    "    cur_node = \"AAA\"\n",
    "    while cur_node != \"ZZZ\": \n",
    "        cur_direction_idx = visited_nodes % len(directions)\n",
    "        cur_direction = directions[cur_direction_idx]\n",
    "        \n",
    "        visited_nodes_path.append(cur_node)\n",
    "        cur_node = nodes.get(cur_node).get(cur_direction)\n",
    "        visited_nodes += 1\n",
    "\n",
    "    # Return the number of nodes traveled, as well as the path \n",
    "    return visited_nodes, visited_nodes_path\n",
    "\n",
    "# Run the input data through the method \n",
    "n_visited_nodes, visited_nodes_path = traverse_nodes(direction_sequence, node_dict)\n",
    "\n",
    "# Print the number of visited nodes\n",
    "print(f\"You encounter '{n_visited_nodes}' nodes during your travels.\")"
   ]
  },
  {
   "cell_type": "markdown",
   "metadata": {},
   "source": [
    "# Part 2: ___"
   ]
  },
  {
   "cell_type": "code",
   "execution_count": null,
   "metadata": {},
   "outputs": [],
   "source": []
  }
 ],
 "metadata": {
  "kernelspec": {
   "display_name": ".venv",
   "language": "python",
   "name": "python3"
  },
  "language_info": {
   "codemirror_mode": {
    "name": "ipython",
    "version": 3
   },
   "file_extension": ".py",
   "mimetype": "text/x-python",
   "name": "python",
   "nbconvert_exporter": "python",
   "pygments_lexer": "ipython3",
   "version": "3.11.0"
  }
 },
 "nbformat": 4,
 "nbformat_minor": 2
}
