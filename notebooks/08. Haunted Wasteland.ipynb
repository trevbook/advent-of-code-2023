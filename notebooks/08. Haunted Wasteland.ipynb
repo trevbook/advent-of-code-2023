{
 "cells": [
  {
   "cell_type": "markdown",
   "metadata": {},
   "source": [
    "# **Day 8: Haunted Wasteland**"
   ]
  },
  {
   "cell_type": "markdown",
   "metadata": {},
   "source": [
    "# Setup\n",
    "The cells below will set up the rest of the notebook. \n",
    "\n",
    "I'll start by configuring my kernel:"
   ]
  },
  {
   "cell_type": "code",
   "execution_count": 1,
   "metadata": {},
   "outputs": [
    {
     "name": "stdout",
     "output_type": "stream",
     "text": [
      "d:\\data\\programming\\advent-of-code-2023\n"
     ]
    }
   ],
   "source": [
    "# Changing the current working directory\n",
    "%cd ..\n",
    "\n",
    "# Enabling the autoreload extension\n",
    "%load_ext autoreload\n",
    "%autoreload 2"
   ]
  },
  {
   "cell_type": "markdown",
   "metadata": {},
   "source": [
    "Now, I'm going to import some libraries:"
   ]
  },
  {
   "cell_type": "code",
   "execution_count": 14,
   "metadata": {},
   "outputs": [],
   "source": [
    "# Import statements\n",
    "import pandas as pd\n",
    "from tqdm import tqdm\n",
    "import re"
   ]
  },
  {
   "cell_type": "markdown",
   "metadata": {},
   "source": [
    "Finally, I'll load in the data for this puzzle. "
   ]
  },
  {
   "cell_type": "code",
   "execution_count": 3,
   "metadata": {},
   "outputs": [],
   "source": [
    "# Load in the data for the puzzle\n",
    "day = 8\n",
    "input_data_path = f\"data/input-files/day-{day:02d}-input.txt\"\n",
    "example_data_path = f\"data/example-input/day-{day:02d}-example.txt\"\n",
    "with open(input_data_path, \"r\") as txt_file:\n",
    "    input_data = txt_file.readlines()"
   ]
  },
  {
   "cell_type": "markdown",
   "metadata": {},
   "source": [
    "# Parsing the Puzzle Input\n",
    "This one seems deceptively easy... I'm a little suspicuous about Part 2. "
   ]
  },
  {
   "cell_type": "code",
   "execution_count": 4,
   "metadata": {},
   "outputs": [],
   "source": [
    "# Parse a DataFrame from the input_data\n",
    "direction_sequence = input_data[0].strip()\n",
    "node_info_str_list = [x.strip() for x in input_data[2:]]\n",
    "node_info_df = pd.DataFrame.from_records(\n",
    "    [\n",
    "        {\n",
    "            \"node_name\": node_info.split(\" = \")[0],\n",
    "            \"left_node\": node_info.split(\" = \")[1].split(\",\")[0][1:],\n",
    "            \"right_node\": node_info.split(\" = \")[1].split(\",\")[1][1:-1],\n",
    "        }\n",
    "        for node_info in node_info_str_list\n",
    "    ]\n",
    ")\n",
    "\n",
    "# Make a dictionary version of the data from the node_info_df\n",
    "node_dict = {row.node_name: {\n",
    "    \"L\": row.left_node,\n",
    "    \"R\": row.right_node,\n",
    "    } for row in node_info_df.itertuples()}"
   ]
  },
  {
   "cell_type": "markdown",
   "metadata": {},
   "source": [
    "# Traversal Method\n",
    "Now, I'm going to write a method that'll traverse the nodes from AAA to ZZZ. "
   ]
  },
  {
   "cell_type": "code",
   "execution_count": 5,
   "metadata": {},
   "outputs": [
    {
     "name": "stdout",
     "output_type": "stream",
     "text": [
      "You encounter '14429' nodes during your travels.\n"
     ]
    }
   ],
   "source": [
    "def traverse_nodes(directions, nodes):\n",
    "    \"\"\"\n",
    "    This method will follow a set of directions through a set of nodes.\n",
    "    \"\"\"\n",
    "    \n",
    "    # Create a while loop \n",
    "    visited_nodes = 0\n",
    "    visited_nodes_path = []\n",
    "    cur_node = \"AAA\"\n",
    "    while cur_node != \"ZZZ\": \n",
    "        cur_direction_idx = visited_nodes % len(directions)\n",
    "        cur_direction = directions[cur_direction_idx]\n",
    "        \n",
    "        visited_nodes_path.append(cur_node)\n",
    "        cur_node = nodes.get(cur_node).get(cur_direction)\n",
    "        visited_nodes += 1\n",
    "\n",
    "    # Return the number of nodes traveled, as well as the path \n",
    "    return visited_nodes, visited_nodes_path\n",
    "\n",
    "# Run the input data through the method \n",
    "n_visited_nodes, visited_nodes_path = traverse_nodes(direction_sequence, node_dict)\n",
    "\n",
    "# Print the number of visited nodes\n",
    "print(f\"You encounter '{n_visited_nodes}' nodes during your travels.\")"
   ]
  },
  {
   "cell_type": "markdown",
   "metadata": {},
   "source": [
    "# Part 2: Simultaneous Node Travel\n",
    "In the second part, it seems like you need to simultaneously travel through all of the nodes that end with \"A\", and then figure out when all of the nodes end up at a node ending in \"Z\". \n",
    "\n",
    "I feel like there may be a mathy way to do this, but I'd first need to understand the patterns behind each of the nodes. I'll start by modifying my traversal method from Part 1 a bit. "
   ]
  },
  {
   "cell_type": "code",
   "execution_count": 11,
   "metadata": {},
   "outputs": [],
   "source": [
    "def traverse_nodes_controlled(directions, nodes, start_node=\"AAA\", n_steps=100000):\n",
    "    \"\"\"\n",
    "    This method will follow a set of directions through a set of nodes.\n",
    "    \"\"\"\n",
    "    \n",
    "    # Create a while loop \n",
    "    visited_nodes = 0\n",
    "    visited_nodes_path = []\n",
    "    cur_node = start_node\n",
    "    while visited_nodes < n_steps: \n",
    "        cur_direction_idx = visited_nodes % len(directions)\n",
    "        cur_direction = directions[cur_direction_idx]\n",
    "        visited_nodes_path.append(cur_node)\n",
    "        cur_node = nodes.get(cur_node).get(cur_direction)\n",
    "        visited_nodes += 1\n",
    "\n",
    "    # Return the number of nodes traveled, as well as the path \n",
    "    return visited_nodes, visited_nodes_path"
   ]
  },
  {
   "cell_type": "markdown",
   "metadata": {},
   "source": [
    "With this method in hand, I'll try and determine how often each node touches an \"end\" node: "
   ]
  },
  {
   "cell_type": "code",
   "execution_count": 19,
   "metadata": {},
   "outputs": [
    {
     "name": "stderr",
     "output_type": "stream",
     "text": [
      "100%|██████████| 6/6 [00:10<00:00,  1.75s/it]\n"
     ]
    },
    {
     "data": {
      "text/html": [
       "<div>\n",
       "<style scoped>\n",
       "    .dataframe tbody tr th:only-of-type {\n",
       "        vertical-align: middle;\n",
       "    }\n",
       "\n",
       "    .dataframe tbody tr th {\n",
       "        vertical-align: top;\n",
       "    }\n",
       "\n",
       "    .dataframe thead th {\n",
       "        text-align: right;\n",
       "    }\n",
       "</style>\n",
       "<table border=\"1\" class=\"dataframe\">\n",
       "  <thead>\n",
       "    <tr style=\"text-align: right;\">\n",
       "      <th></th>\n",
       "      <th>start_node</th>\n",
       "      <th>n_steps_for_end_nodes</th>\n",
       "      <th>period</th>\n",
       "    </tr>\n",
       "  </thead>\n",
       "  <tbody>\n",
       "    <tr>\n",
       "      <th>0</th>\n",
       "      <td>DNA</td>\n",
       "      <td>[20569, 41138, 61707, 82276, 102845, 123414, 1...</td>\n",
       "      <td>[20569, 20569, 20569, 20569, 20569, 20569, 205...</td>\n",
       "    </tr>\n",
       "    <tr>\n",
       "      <th>1</th>\n",
       "      <td>HNA</td>\n",
       "      <td>[18727, 37454, 56181, 74908, 93635, 112362, 13...</td>\n",
       "      <td>[18727, 18727, 18727, 18727, 18727, 18727, 187...</td>\n",
       "    </tr>\n",
       "    <tr>\n",
       "      <th>2</th>\n",
       "      <td>AAA</td>\n",
       "      <td>[14429, 28858, 43287, 57716, 72145, 86574, 101...</td>\n",
       "      <td>[14429, 14429, 14429, 14429, 14429, 14429, 144...</td>\n",
       "    </tr>\n",
       "    <tr>\n",
       "      <th>3</th>\n",
       "      <td>LMA</td>\n",
       "      <td>[13201, 26402, 39603, 52804, 66005, 79206, 924...</td>\n",
       "      <td>[13201, 13201, 13201, 13201, 13201, 13201, 132...</td>\n",
       "    </tr>\n",
       "    <tr>\n",
       "      <th>4</th>\n",
       "      <td>VGA</td>\n",
       "      <td>[18113, 36226, 54339, 72452, 90565, 108678, 12...</td>\n",
       "      <td>[18113, 18113, 18113, 18113, 18113, 18113, 181...</td>\n",
       "    </tr>\n",
       "    <tr>\n",
       "      <th>5</th>\n",
       "      <td>LLA</td>\n",
       "      <td>[22411, 44822, 67233, 89644, 112055, 134466, 1...</td>\n",
       "      <td>[22411, 22411, 22411, 22411, 22411, 22411, 224...</td>\n",
       "    </tr>\n",
       "  </tbody>\n",
       "</table>\n",
       "</div>"
      ],
      "text/plain": [
       "  start_node                              n_steps_for_end_nodes  \\\n",
       "0        DNA  [20569, 41138, 61707, 82276, 102845, 123414, 1...   \n",
       "1        HNA  [18727, 37454, 56181, 74908, 93635, 112362, 13...   \n",
       "2        AAA  [14429, 28858, 43287, 57716, 72145, 86574, 101...   \n",
       "3        LMA  [13201, 26402, 39603, 52804, 66005, 79206, 924...   \n",
       "4        VGA  [18113, 36226, 54339, 72452, 90565, 108678, 12...   \n",
       "5        LLA  [22411, 44822, 67233, 89644, 112055, 134466, 1...   \n",
       "\n",
       "                                              period  \n",
       "0  [20569, 20569, 20569, 20569, 20569, 20569, 205...  \n",
       "1  [18727, 18727, 18727, 18727, 18727, 18727, 187...  \n",
       "2  [14429, 14429, 14429, 14429, 14429, 14429, 144...  \n",
       "3  [13201, 13201, 13201, 13201, 13201, 13201, 132...  \n",
       "4  [18113, 18113, 18113, 18113, 18113, 18113, 181...  \n",
       "5  [22411, 22411, 22411, 22411, 22411, 22411, 224...  "
      ]
     },
     "execution_count": 19,
     "metadata": {},
     "output_type": "execute_result"
    }
   ],
   "source": [
    "# Determine all of the starting nodes\n",
    "start_nodes = [node for node in node_dict.keys() if node.endswith(\"A\")]\n",
    "\n",
    "# Iterate through each of them and find their paths\n",
    "n_iterations = 10000000\n",
    "start_node_to_path_dict = {}\n",
    "for node in tqdm(start_nodes):\n",
    "    _, path = traverse_nodes_controlled(\n",
    "        direction_sequence, node_dict, start_node=node, n_steps=n_iterations\n",
    "    )\n",
    "    start_node_to_path_dict[node] = path\n",
    "\n",
    "# Make a DataFrame of the results and the number of steps\n",
    "start_node_path_period_df = pd.DataFrame(\n",
    "    [\n",
    "        {\n",
    "            \"start_node\": start_node,\n",
    "            \"n_steps_for_end_nodes\": [\n",
    "                idx for idx, node in enumerate(path) if node.endswith(\"Z\")\n",
    "            ],\n",
    "        }\n",
    "        for start_node, path in start_node_to_path_dict.items()\n",
    "    ]\n",
    ")\n",
    "\n",
    "start_node_path_period_df[\"period\"] = start_node_path_period_df[\"n_steps_for_end_nodes\"].apply(\n",
    "    lambda x: [val - x[idx-1] for idx, val in enumerate(x) if idx > 0]\n",
    ")\n",
    "\n",
    "start_node_path_period_df"
   ]
  },
  {
   "cell_type": "markdown",
   "metadata": {},
   "source": [
    "This seems like a least common multiple problem. Shouldn't be too hard - I just need to find the prime factorization of each of the numbers, and then I should be good! "
   ]
  },
  {
   "cell_type": "code",
   "execution_count": 28,
   "metadata": {},
   "outputs": [
    {
     "data": {
      "text/html": [
       "<div>\n",
       "<style scoped>\n",
       "    .dataframe tbody tr th:only-of-type {\n",
       "        vertical-align: middle;\n",
       "    }\n",
       "\n",
       "    .dataframe tbody tr th {\n",
       "        vertical-align: top;\n",
       "    }\n",
       "\n",
       "    .dataframe thead th {\n",
       "        text-align: right;\n",
       "    }\n",
       "</style>\n",
       "<table border=\"1\" class=\"dataframe\">\n",
       "  <thead>\n",
       "    <tr style=\"text-align: right;\">\n",
       "      <th></th>\n",
       "      <th>start_node</th>\n",
       "      <th>n_steps_for_end_nodes</th>\n",
       "      <th>period</th>\n",
       "      <th>period_prime_factorization</th>\n",
       "    </tr>\n",
       "  </thead>\n",
       "  <tbody>\n",
       "    <tr>\n",
       "      <th>0</th>\n",
       "      <td>DNA</td>\n",
       "      <td>[20569, 41138, 61707, 82276, 102845, 123414, 1...</td>\n",
       "      <td>[20569, 20569, 20569, 20569, 20569, 20569, 205...</td>\n",
       "      <td>[67, 307]</td>\n",
       "    </tr>\n",
       "    <tr>\n",
       "      <th>1</th>\n",
       "      <td>HNA</td>\n",
       "      <td>[18727, 37454, 56181, 74908, 93635, 112362, 13...</td>\n",
       "      <td>[18727, 18727, 18727, 18727, 18727, 18727, 187...</td>\n",
       "      <td>[61, 307]</td>\n",
       "    </tr>\n",
       "    <tr>\n",
       "      <th>2</th>\n",
       "      <td>AAA</td>\n",
       "      <td>[14429, 28858, 43287, 57716, 72145, 86574, 101...</td>\n",
       "      <td>[14429, 14429, 14429, 14429, 14429, 14429, 144...</td>\n",
       "      <td>[47, 307]</td>\n",
       "    </tr>\n",
       "    <tr>\n",
       "      <th>3</th>\n",
       "      <td>LMA</td>\n",
       "      <td>[13201, 26402, 39603, 52804, 66005, 79206, 924...</td>\n",
       "      <td>[13201, 13201, 13201, 13201, 13201, 13201, 132...</td>\n",
       "      <td>[43, 307]</td>\n",
       "    </tr>\n",
       "    <tr>\n",
       "      <th>4</th>\n",
       "      <td>VGA</td>\n",
       "      <td>[18113, 36226, 54339, 72452, 90565, 108678, 12...</td>\n",
       "      <td>[18113, 18113, 18113, 18113, 18113, 18113, 181...</td>\n",
       "      <td>[59, 307]</td>\n",
       "    </tr>\n",
       "    <tr>\n",
       "      <th>5</th>\n",
       "      <td>LLA</td>\n",
       "      <td>[22411, 44822, 67233, 89644, 112055, 134466, 1...</td>\n",
       "      <td>[22411, 22411, 22411, 22411, 22411, 22411, 224...</td>\n",
       "      <td>[73, 307]</td>\n",
       "    </tr>\n",
       "  </tbody>\n",
       "</table>\n",
       "</div>"
      ],
      "text/plain": [
       "  start_node                              n_steps_for_end_nodes  \\\n",
       "0        DNA  [20569, 41138, 61707, 82276, 102845, 123414, 1...   \n",
       "1        HNA  [18727, 37454, 56181, 74908, 93635, 112362, 13...   \n",
       "2        AAA  [14429, 28858, 43287, 57716, 72145, 86574, 101...   \n",
       "3        LMA  [13201, 26402, 39603, 52804, 66005, 79206, 924...   \n",
       "4        VGA  [18113, 36226, 54339, 72452, 90565, 108678, 12...   \n",
       "5        LLA  [22411, 44822, 67233, 89644, 112055, 134466, 1...   \n",
       "\n",
       "                                              period  \\\n",
       "0  [20569, 20569, 20569, 20569, 20569, 20569, 205...   \n",
       "1  [18727, 18727, 18727, 18727, 18727, 18727, 187...   \n",
       "2  [14429, 14429, 14429, 14429, 14429, 14429, 144...   \n",
       "3  [13201, 13201, 13201, 13201, 13201, 13201, 132...   \n",
       "4  [18113, 18113, 18113, 18113, 18113, 18113, 181...   \n",
       "5  [22411, 22411, 22411, 22411, 22411, 22411, 224...   \n",
       "\n",
       "  period_prime_factorization  \n",
       "0                  [67, 307]  \n",
       "1                  [61, 307]  \n",
       "2                  [47, 307]  \n",
       "3                  [43, 307]  \n",
       "4                  [59, 307]  \n",
       "5                  [73, 307]  "
      ]
     },
     "execution_count": 28,
     "metadata": {},
     "output_type": "execute_result"
    }
   ],
   "source": [
    "def prime_factorization(number):\n",
    "    \"\"\"\n",
    "    This method will find the prime factorization of a particular number. \n",
    "    I took this from https://stackoverflow.com/a/22808285. \n",
    "    \"\"\"\n",
    "    cur_factor = 2\n",
    "    factors = []\n",
    "    while cur_factor**2 <= number:\n",
    "        if (number % cur_factor) != 0:\n",
    "            cur_factor += 1\n",
    "        else:\n",
    "            number //= cur_factor\n",
    "            factors.append(cur_factor)\n",
    "    if number > 1:\n",
    "        factors.append(number)\n",
    "    return factors\n",
    "\n",
    "# Determine the prime factorization of each starting node's period\n",
    "start_node_path_period_df[\"period_prime_factorization\"] = start_node_path_period_df[\"period\"].apply(\n",
    "    lambda x: prime_factorization(x[0])\n",
    ")\n",
    "\n",
    "start_node_path_period_df"
   ]
  },
  {
   "cell_type": "code",
   "execution_count": 31,
   "metadata": {},
   "outputs": [],
   "source": [
    "def lcm_from_prime_factorizations(list_of_prime_factorizations):\n",
    "    \"\"\"\n",
    "    This will calculate the LCM of a set of numbers, given by their prime factorization. \n",
    "    \"\"\"\n",
    "    \n",
    "    # Determine each of the unique numbers across all of the sets\n",
    "    unique_numbers = [item for sublist in list_of_prime_factorizations for item in sublist]\n",
    "    \n",
    "    # Determine the maximum counts associated with each of the numbers\n",
    "    max_counts_per_unique_number = {num: 1 for num in unique_numbers}\n",
    "    for cur_num in unique_numbers:\n",
    "        for prime_factorization in list_of_prime_factorizations:\n",
    "            cur_num_ct = prime_factorization.count(cur_num)\n",
    "            if  cur_num_ct > max_counts_per_unique_number.get(cur_num, 1):\n",
    "                max_counts_per_unique_number[cur_num] = cur_num_ct\n",
    "    \n",
    "    # Now, return the product of all of these repeated factors\n",
    "    final_product = 1\n",
    "    for cur_num, ct in max_counts_per_unique_number.items():\n",
    "        final_product *= cur_num**ct\n",
    "    return final_product"
   ]
  },
  {
   "cell_type": "code",
   "execution_count": 32,
   "metadata": {},
   "outputs": [
    {
     "data": {
      "text/plain": [
       "10921547990923"
      ]
     },
     "execution_count": 32,
     "metadata": {},
     "output_type": "execute_result"
    }
   ],
   "source": [
    "lcm_from_prime_factorizations(list(start_node_path_period_df[\"period_prime_factorization\"]))"
   ]
  }
 ],
 "metadata": {
  "kernelspec": {
   "display_name": ".venv",
   "language": "python",
   "name": "python3"
  },
  "language_info": {
   "codemirror_mode": {
    "name": "ipython",
    "version": 3
   },
   "file_extension": ".py",
   "mimetype": "text/x-python",
   "name": "python",
   "nbconvert_exporter": "python",
   "pygments_lexer": "ipython3",
   "version": "3.11.0"
  }
 },
 "nbformat": 4,
 "nbformat_minor": 2
}
